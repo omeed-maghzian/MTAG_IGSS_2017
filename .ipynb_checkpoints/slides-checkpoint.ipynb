{
 "cells": [
  {
   "cell_type": "code",
   "execution_count": 11,
   "metadata": {
    "collapsed": false,
    "slideshow": {
     "slide_type": "skip"
    }
   },
   "outputs": [
    {
     "data": {
      "text/plain": [
       "{'scroll': True, 'theme': 'sky'}"
      ]
     },
     "execution_count": 11,
     "metadata": {},
     "output_type": "execute_result"
    }
   ],
   "source": [
    "from traitlets.config.manager import BaseJSONConfigManager\n",
    "path = \"/Users/omeedmaghzian/.jupyter/nbconfig\"\n",
    "cm = BaseJSONConfigManager(config_dir=path)\n",
    "cm.update(\"livereveal\", {\n",
    "              \"scroll\": True,\n",
    "              \"theme\": \"sky\"\n",
    "})"
   ]
  },
  {
   "cell_type": "markdown",
   "metadata": {
    "slideshow": {
     "slide_type": "slide"
    }
   },
   "source": [
    "# MTAG\n",
    "\n",
    "## Python Command Line Tool\n",
    "<div id=\"\" style=\"overflow:scroll;\">\n",
    "### Omeed Maghzian\n",
    "\n",
    "### Patrick Turley\n"
   ]
  },
  {
   "cell_type": "markdown",
   "metadata": {
    "slideshow": {
     "slide_type": "slide"
    }
   },
   "source": [
    "The goal of this workshop is to not only present the theory and properties of MTAG, but also demonstrate the ease of its application."
   ]
  },
  {
   "cell_type": "markdown",
   "metadata": {
    "slideshow": {
     "slide_type": "fragment"
    }
   },
   "source": [
    "Specifically,\n"
   ]
  },
  {
   "cell_type": "markdown",
   "metadata": {
    "slideshow": {
     "slide_type": "fragment"
    }
   },
   "source": [
    "* Software built to work from the command line: no programming required\n",
    "    * However, can easily be integrated into Python pipeline (not covered here)\n"
   ]
  },
  {
   "cell_type": "markdown",
   "metadata": {
    "slideshow": {
     "slide_type": "fragment"
    }
   },
   "source": [
    "* Organized like the LD Score Regression (`ldsc`) tool\n"
   ]
  },
  {
   "cell_type": "markdown",
   "metadata": {
    "slideshow": {
     "slide_type": "fragment"
    }
   },
   "source": [
    "* Tutorials and manuals provided on the [Github repository](https://github.com/omeed-maghzian/mtag)"
   ]
  },
  {
   "cell_type": "markdown",
   "metadata": {
    "slideshow": {
     "slide_type": "slide"
    }
   },
   "source": [
    "## Table of Contents \n",
    "\n",
    "* Setup (already done for you)\n",
    "\n",
    " \n",
    "1. The Basics \n",
    "2. Special Options \n",
    "3. maxFDR\n",
    "4. Closing Comments"
   ]
  },
  {
   "cell_type": "markdown",
   "metadata": {
    "slideshow": {
     "slide_type": "slide"
    }
   },
   "source": [
    "## 0. Setup\n",
    "\n",
    "(has already been done for you ..)\n",
    "\n",
    "\n",
    "\n"
   ]
  },
  {
   "cell_type": "markdown",
   "metadata": {
    "collapsed": true,
    "slideshow": {
     "slide_type": "subslide"
    }
   },
   "source": [
    "#### Install Python \n",
    "* To begin, you need a distribution of Python 2.7 (such as from [Anaconda](https://www.anaconda.com/download/#macos)) with the following packages: `numpy`, `scipy`, `pandas`, `argparse`, `bitarray`, `joblib`.\n",
    "     * will also work with Python 3 soon\n",
    "* You should be able to call Python by typing in `python` (or a similar command) in the command line.\n",
    "* Explained in the `README` found in the Github repository.\n",
    "\n"
   ]
  },
  {
   "cell_type": "markdown",
   "metadata": {
    "slideshow": {
     "slide_type": "subslide"
    }
   },
   "source": [
    "### Cloning  `MTAG` from Github\n",
    "* navigate to your folder of choice (```IGSS_2017_mtag_workshop``` in this demonstration)\n",
    "* use `git clone`\n",
    "<img src=\"figs/command_1.1.png\">\n",
    "* You should now see a folder named `mtag` there"
   ]
  },
  {
   "cell_type": "markdown",
   "metadata": {
    "slideshow": {
     "slide_type": "subslide"
    }
   },
   "source": [
    "### Updating `MTAG` \n",
    "\n",
    "* navigate *into* the `mtag` folder\n",
    "* type `git pull`\n"
   ]
  },
  {
   "cell_type": "markdown",
   "metadata": {
    "slideshow": {
     "slide_type": "fragment"
    }
   },
   "source": [
    "\n",
    "* **Up-to-date**:\n",
    "<img src=\"figs/command_1.2cropped.png\">"
   ]
  },
  {
   "cell_type": "markdown",
   "metadata": {
    "slideshow": {
     "slide_type": "fragment"
    }
   },
   "source": [
    "\n",
    "* **Otherwise, will update**:\n",
    "<img src=\"figs/gitpull2.png\">\n"
   ]
  },
  {
   "cell_type": "markdown",
   "metadata": {
    "slideshow": {
     "slide_type": "slide"
    }
   },
   "source": [
    "## 1. Basics"
   ]
  },
  {
   "cell_type": "markdown",
   "metadata": {
    "slideshow": {
     "slide_type": "subslide"
    }
   },
   "source": [
    "#### Summary statistics for this section:\n",
    "\n",
    "Trait number | Trait | Filename \n",
    "------|----|---\n",
    "1 | Subjective well-being (SWB) | `1_OA2016_hm3samp_SWB.txt`\n",
    "2 | Neuroticism (NEUR) |          `1_OA2016_hm3samp_NEUR.txt`\n"
   ]
  },
  {
   "cell_type": "markdown",
   "metadata": {
    "slideshow": {
     "slide_type": "fragment"
    }
   },
   "source": [
    "\n",
    "* Publicly-available sumstats from:\n",
    "\n",
    "Okbay et al. \"Genetic variants associated with subjective well-being, depressive symptoms, and neuroticism identified through genome-wide analyses.\" *Nature Genetics* 48, 624–633 (2016).\n",
    "\n",
    "* Sample (~10%) of Hapmap 3 SNPs\n",
    "* Found in the `data` folder"
   ]
  },
  {
   "cell_type": "markdown",
   "metadata": {
    "slideshow": {
     "slide_type": "subslide"
    }
   },
   "source": [
    "## A quick primer on Linux\n",
    "\n",
    "We will only go over the minimum detail needed to follow along in the workshop. There are many good resources for working with Unix available online."
   ]
  },
  {
   "cell_type": "markdown",
   "metadata": {
    "slideshow": {
     "slide_type": "fragment"
    }
   },
   "source": [
    "\n",
    "### Simple commands\n",
    "* `cd [path]`: **c**hange **d**irectory to `[path]` (can be relative or absolute)\n",
    "* `ls [path]`: **l**i**s**t the files and folder in `[path]`\n",
    "* `head -n [N] [file]`: view the first `[N]` lines of `[file]`. `tail` lets you view the last `[N]` lines.\n",
    "* `python [path] [-options]`: run `[path]` as a Python script with some options specified. This is how we run MTAG.\n"
   ]
  },
  {
   "cell_type": "markdown",
   "metadata": {
    "slideshow": {
     "slide_type": "fragment"
    }
   },
   "source": [
    "\n",
    "### Running Bash/Shell scripts\n",
    "* You can write a sequence of commands (and comments) in a `.bash` or `.sh` script\n",
    "* `bash [file.bash]` executes these commands\n"
   ]
  },
  {
   "cell_type": "markdown",
   "metadata": {
    "slideshow": {
     "slide_type": "fragment"
    }
   },
   "source": [
    "\n",
    "* *This is the easiest way to run the MTAG commands in this tutorial*"
   ]
  },
  {
   "cell_type": "markdown",
   "metadata": {
    "slideshow": {
     "slide_type": "subslide"
    }
   },
   "source": [
    "## A quick primer on Linux\n",
    "\n",
    "\n",
    "### Helpful shortcuts \n",
    "* Press the \"`UP`\" key to automatically re-type past commands\n",
    "* Use \"`CTRL+C`\" to kill processes in the foreground\n",
    "* Auto-completion: the `TAB` key is your friend!\n",
    "* \"`.`\" refers to the current directory\n",
    "* \"`..`\" refers to the parent of the current directory"
   ]
  },
  {
   "cell_type": "markdown",
   "metadata": {
    "slideshow": {
     "slide_type": "subslide"
    }
   },
   "source": [
    "### Listing options (`-h`)\n",
    "\n",
    "* General format: **`python [PATH_OF_MTAG_CODE] -h`**\n",
    "* For, example in the `mtag` folder:\n",
    "\n",
    "<img src=\"figs/command_2.1a.png\">\n",
    "\n",
    "\n",
    "\n",
    "\n",
    "\n"
   ]
  },
  {
   "cell_type": "markdown",
   "metadata": {
    "slideshow": {
     "slide_type": "subslide"
    }
   },
   "source": [
    "#### For convenience, most commands that are shown can be run by calling `bash` on the parenthetical script name. \n",
    "\n",
    "#### The slide will display the contents inside each script."
   ]
  },
  {
   "cell_type": "markdown",
   "metadata": {
    "slideshow": {
     "slide_type": "subslide"
    }
   },
   "source": [
    "#### Viewing MTAG options\n",
    "\n",
    "#### Check that you are in the `code` directory by typing `pwd`\n",
    "\n",
    "\n",
    "#### Then, type: \n",
    "```\n",
    "bash 1.1_access_help.bash\n",
    "```\n"
   ]
  },
  {
   "cell_type": "markdown",
   "metadata": {
    "slideshow": {
     "slide_type": "subslide"
    }
   },
   "source": [
    "### `bash 1.1_access_help.bash`\n",
    "\n",
    "#### Here are the contents of `1.1_access_help.bash`"
   ]
  },
  {
   "cell_type": "code",
   "execution_count": 1,
   "metadata": {
    "collapsed": false,
    "slideshow": {
     "slide_type": "fragment"
    }
   },
   "outputs": [
    {
     "name": "stdout",
     "output_type": "stream",
     "text": [
      "usage: mtag.py [-h] [--sumstats [{File1},{File2}...]]\r\n",
      "               [--gencov_path FILE_PATH] [--residcov_path FILE_PATH]\r\n",
      "               [--out DIR/PREFIX] [--make_full_path] [--snp_name SNP_NAME]\r\n",
      "               [--z_name Z_NAME] [--n_name N_NAME] [--eaf_name EAF_NAME]\r\n",
      "               [--chr_name CHR_NAME] [--bpos_name BPOS_NAME]\r\n",
      "               [--a1_name A1_NAME] [--a2_name A2_NAME]\r\n",
      "               [--include SNPLIST1,SNPLIST2,..]\r\n",
      "               [--exclude SNPLIST1,SNPLIST2,..] [--only_chr CHR_A,CHR_B,..]\r\n",
      "               [--homogNs_frac FRAC] [--homogNs_dist D] [--maf_min MAF_MIN]\r\n",
      "               [--n_min N_MIN] [--n_max N_MAX] [--info_min INFO_MIN]\r\n",
      "               [--drop_ambig_snps] [--no_allele_flipping] [--analytic_omega]\r\n",
      "               [--no_overlap] [--perfect_gencov] [--equal_h2] [--fdr]\r\n",
      "               [--grid_file GRID_FILE] [--fit_ss] [--intervals INTERVALS]\r\n",
      "               [--cores CORES] [--p_sig P_SIG] [--n_approx]\r\n",
      "               [--ld_ref_panel FOLDER_PATH] [--time_limit TIME_LIMIT]\r\n",
      "               [--std_betas] [--tol TOL] [--numerical_omega] [--verbose]\r\n",
      "               [--chunksize CHUNKSIZE] [--stream_stdout]\r\n",
      "\r\n",
      "**mtag: Multitrait Analysis of GWAS** This program is the implementation of\r\n",
      "MTAG method described by Turley et. al. Requires the input of a comma-\r\n",
      "separated list of GWAS summary statistics with identical columns. It is\r\n",
      "recommended to pass the column names manually to the program using the options\r\n",
      "below. The implementation of MTAG makes use of the LD Score Regression (ldsc)\r\n",
      "for cleaning the data and estimating residual variance-covariance matrix, so\r\n",
      "the input must also be compatible ./munge_sumstats.py command in the ldsc\r\n",
      "distribution included with mtag. The default estimation method for the genetic\r\n",
      "covariance matrix Omega is GMM (as described in the paper). Note below: any\r\n",
      "list of passed to the options below must be comma-separated without\r\n",
      "whitespace.\r\n",
      "\r\n",
      "optional arguments:\r\n",
      "  -h, --help            show this help message and exit\r\n",
      "\r\n",
      "Input Files:\r\n",
      "  Input files to be used by MTAG. The --sumstats option is required, while\r\n",
      "  using the other two options take priority of their corresponding\r\n",
      "  estimation routines, if used.\r\n",
      "\r\n",
      "  --sumstats [{File1},{File2}...]\r\n",
      "                        Specify the list of summary statistics files to\r\n",
      "                        perform multitrait analysis. Multiple files paths must\r\n",
      "                        be separated by \",\". Please read the documentation to\r\n",
      "                        find the up-to-date set of acceptable file formats. A\r\n",
      "                        general guideline is that any files you pass into MTAG\r\n",
      "                        should also be parsable by ldsc and you should take\r\n",
      "                        the additional step of specifying the names of the\r\n",
      "                        main columns below to avoid reading errors.\r\n",
      "  --gencov_path FILE_PATH\r\n",
      "                        If specified, will read in the genetic covariance\r\n",
      "                        matrix saved in the file path below and skip the\r\n",
      "                        estimation routine. The rows and columns of the matrix\r\n",
      "                        must correspond to the order of the GWAS input files\r\n",
      "                        specified. FIles can either be in whitespace-delimited\r\n",
      "                        .txt or .npy format. Use with caution as the genetic\r\n",
      "                        covariance matrix specified will be weakly nonoptimal.\r\n",
      "  --residcov_path FILE_PATH\r\n",
      "                        If specified, will read in the residual covariance\r\n",
      "                        matrix saved in the file path below and skip the\r\n",
      "                        estimation routine. The rows and columns of the matrix\r\n",
      "                        must correspond to the order of the GWAS input files\r\n",
      "                        specified. FIles can either be in .txt or .npy format.\r\n",
      "                        Use with caution as the genetic covariance matrix\r\n",
      "                        specified will be weakly nonoptimal. File must either\r\n",
      "                        be in whitespace-delimited .txt or .npy\r\n",
      "\r\n",
      "Output formatting:\r\n",
      "  Set the output directory and common name of prefix files.\r\n",
      "\r\n",
      "  --out DIR/PREFIX      Specify the directory and name prefix to output MTAG\r\n",
      "                        results. All mtag results will be prefixed with the\r\n",
      "                        corresponding tag. Default is ./mtag_results\r\n",
      "  --make_full_path      option to make output path specified in -out if it\r\n",
      "                        does not exist.\r\n",
      "\r\n",
      "Column names of input files:\r\n",
      "  These options manually pass the names of the relevant summary statistics\r\n",
      "  columns used by MTAG. It is recommended to pass these names because only\r\n",
      "  narrow searches for these columns are performed in the default cases.\r\n",
      "  Moreover, it is necessary that these input files be readable by ldsc's\r\n",
      "  munge_sumstats command.\r\n",
      "\r\n",
      "  --snp_name SNP_NAME   Name of the single column that provides the unique\r\n",
      "                        identifier for SNPs in the GWAS summary statistics\r\n",
      "                        across all GWAS results. Default is \"snpid\". This the\r\n",
      "                        index that will be used to merge the GWAS summary\r\n",
      "                        statistics. Any SNP lists passed to ---include or\r\n",
      "                        --exclude should also contain the same name.\r\n",
      "  --z_name Z_NAME       The common name of the column of Z scores across all\r\n",
      "                        input files. Default is to search for columns\r\n",
      "                        beginning with the lowercase letter z.\r\n",
      "  --n_name N_NAME       the common name of the column of sample sizes in the\r\n",
      "                        GWAS summary statistics files. Default is to search\r\n",
      "                        for columns beginning with the lowercase letter n.\r\n",
      "  --eaf_name EAF_NAME   The common name of the column of minor allele\r\n",
      "                        frequencies (MAF) in the GWAS input files. The default\r\n",
      "                        is \"freq\".\r\n",
      "  --chr_name CHR_NAME   Name of the column containing the chromosome of each\r\n",
      "                        SNP in the GWAS input. Default is \"chr\".\r\n",
      "  --bpos_name BPOS_NAME\r\n",
      "                        Name of the column containing the base pair of each\r\n",
      "                        SNP in the GWAS input. Default is \"bpos\".\r\n",
      "  --a1_name A1_NAME     Name of the column containing the effect allele of\r\n",
      "                        each SNP in the GWAS input. Default is \"a1\".\r\n",
      "  --a2_name A2_NAME     Name of the column containing the non-effect allele of\r\n",
      "                        each SNP in the GWAS input. Default is \"a2\".\r\n",
      "\r\n",
      "Filter Options:\r\n",
      "  The input summary statistics files can be filtered using the options\r\n",
      "  below. Note that there is some default filtering according to sample size\r\n",
      "  and allele frequency, following the recommendations we make in the\r\n",
      "  corresponding paper. All of these column-based options allow a list of\r\n",
      "  values to be passed of the same length as the number of traits\r\n",
      "\r\n",
      "  --include SNPLIST1,SNPLIST2,..\r\n",
      "                        Restricts MTAG analysis to the union of snps in the\r\n",
      "                        list of snplists provided. The header line must match\r\n",
      "                        the SNP index that will be used to merge the GWAS\r\n",
      "                        input files.\r\n",
      "  --exclude SNPLIST1,SNPLIST2,.., --excludeSNPs SNPLIST1,SNPLIST2,..\r\n",
      "                        Similar to the --include option, except that the union\r\n",
      "                        of SNPs found in the specified files will be excluded\r\n",
      "                        from MTAG. Both -exclude and -include may be\r\n",
      "                        simultaneously specified, but -exclude will take\r\n",
      "                        precedent (i.e., SNPs found in both the -include and\r\n",
      "                        -exclude SNP lists will be excluded).\r\n",
      "  --only_chr CHR_A,CHR_B,..\r\n",
      "                        Restrict MTAG to SNPs on one of the listed, comma-\r\n",
      "                        separated chromosome. Can be specified simultaneously\r\n",
      "                        with --include and --exclude, but will take precedent\r\n",
      "                        over both. Not generally recommended. Multiple\r\n",
      "                        chromosome numbers should be separated by commas\r\n",
      "                        without whitespace. If this option is specified, the\r\n",
      "                        GWAS summary statistics must also list the chromosome\r\n",
      "                        of each SNPs in a column named \\`chr\\`.\r\n",
      "  --homogNs_frac FRAC   Restricts to SNPs within FRAC of the mode of sample\r\n",
      "                        sizes for the SNPs as given by (N-Mode)/Mode < FRAC.\r\n",
      "                        This filter is not applied by default.\r\n",
      "  --homogNs_dist D      Restricts to SNPs within DIST (in sample size) of the\r\n",
      "                        mode of sample sizes for the SNPs. This filter is not\r\n",
      "                        applied by default.\r\n",
      "  --maf_min MAF_MIN     set the threshold below SNPs with low minor allele\r\n",
      "                        frequencies will be dropped. Default is 0.01. Set to 0\r\n",
      "                        to skip MAF filtering.\r\n",
      "  --n_min N_MIN         set the minimum threshold for SNP sample size in input\r\n",
      "                        data. Default is 2/3*(90th percentile). Any SNP that\r\n",
      "                        does not pass this threshold for all of the GWAS input\r\n",
      "                        statistics will not be included in MTAG.\r\n",
      "  --n_max N_MAX         set the maximum threshold for SNP sample size in input\r\n",
      "                        data. Not used by default. Any SNP that does not pass\r\n",
      "                        this threshold for any of the GWAS input statistics\r\n",
      "                        will not be included in MTAG.\r\n",
      "  --info_min INFO_MIN   Minimim info score for filtering SNPs for MTAG.\r\n",
      "  --drop_ambig_snps     Drop strand ambiguous SNPs when performing MTAG (they\r\n",
      "                        are already not used to estimate Omega or Sigma.\r\n",
      "  --no_allele_flipping  Prevents flipping the effect sizes of summary\r\n",
      "                        statistics when the effect and non-effect alleles are\r\n",
      "                        reversed (reletive the first summary statistics file.\r\n",
      "\r\n",
      "Special Cases:\r\n",
      "  These options deal with notable special cases of MTAG that yield\r\n",
      "  improvements in runtime. However, they should be used with caution as they\r\n",
      "  will yield non-optimal results if the assumptions implicit in each option\r\n",
      "  are violated.\r\n",
      "\r\n",
      "  --analytic_omega      Option to turn off the numerical estimation of the\r\n",
      "                        genetic VCV matrix in the presence of constant sample\r\n",
      "                        size within each GWAS, for which a closed-form\r\n",
      "                        solution exists. The default is to typically use the\r\n",
      "                        closed form solution as the starting point for the\r\n",
      "                        numerical solution to the maximum-likelihood genetic\r\n",
      "                        VCV, Use with caution! If any input GWAS does not have\r\n",
      "                        constant sample size, then the analytic solution\r\n",
      "                        employed here will not be a maximizer of the\r\n",
      "                        likelihood function.\r\n",
      "  --no_overlap          Imposes the assumption that there is no sample overlap\r\n",
      "                        between the input GWAS summary statistics. MTAG is\r\n",
      "                        performed with the off-diagonal terms on the residual\r\n",
      "                        covariance matrix set to 0.\r\n",
      "  --perfect_gencov      Imposes the assumption that all traits used are\r\n",
      "                        perfectly genetically correlated with each other. The\r\n",
      "                        off-diagonal terms of the genetic covariance matrix\r\n",
      "                        are set to the square root of the product of the\r\n",
      "                        heritabilities\r\n",
      "  --equal_h2            Imposes the assumption that all traits passed to MTAG\r\n",
      "                        have equal heritability. The diagonal terms of the\r\n",
      "                        genetic covariance matrix are set equal to each other.\r\n",
      "                        Can only be used in conjunction with --perfect_gencov\r\n",
      "\r\n",
      "Max FDR calculation:\r\n",
      "  These options are used for the calculation of an upper bound on the false\r\n",
      "  disovery under the model described in Supplementary Note 1.1.4 of Turley\r\n",
      "  et al. (2017). Note that there is one of three ways to define the space of\r\n",
      "  grid points over which the upper bound is searched.\r\n",
      "\r\n",
      "  --fdr                 Perform max FDR calculations\r\n",
      "  --grid_file GRID_FILE\r\n",
      "                        Pre-set list of grid points. Users can define a list\r\n",
      "                        of grid points over which the search is conducted. The\r\n",
      "                        list of grid points should be passed in text file as a\r\n",
      "                        white-space delimited matrix of dimnesions, G x S,\r\n",
      "                        where G is the number of grid points and S = 2^T is\r\n",
      "                        the number of possible causal states for SNPs. States\r\n",
      "                        are ordered according to a tree-like recursive\r\n",
      "                        structure from right to left. For example, for 3\r\n",
      "                        traits, with the triple TFT denoting the state for\r\n",
      "                        which SNPs are causal for State 1, not causal for\r\n",
      "                        state 2, and causal for state 3, then the column\r\n",
      "                        ordering of probabilities should be: FFF FFT FTF FTT\r\n",
      "                        TFF TFT TTF TTT There should be no headers, or row\r\n",
      "                        names in the file. Any rows for which (i) the\r\n",
      "                        probabilities do not sum to 1, the prior of a SNP\r\n",
      "                        being is causal is 0 for any of the traits, and (iii)\r\n",
      "                        the resulting genetic correlation matrix is non\r\n",
      "                        positive definite will excluded in the search.\r\n",
      "  --fit_ss              This estimates the prior probability that a SNP is\r\n",
      "                        null for each trait and then proceeds to restrict the\r\n",
      "                        grid search to the set of probability vectors that sum\r\n",
      "                        to the prior null for each trait. This is useful for\r\n",
      "                        restrict the search space of larger-dimensional\r\n",
      "                        traits.\r\n",
      "  --intervals INTERVALS\r\n",
      "                        Number of intervals that you would like to partition\r\n",
      "                        the [0,1] interval. For example example, with two\r\n",
      "                        traits and --intervals set 10, then maxFDR will\r\n",
      "                        calculated over the set of feasible points in {0.,\r\n",
      "                        0.1, 0.2,..,0.9,1.0}^2.\r\n",
      "  --cores CORES         Number of threads/cores use to compute the FDR grid\r\n",
      "                        points for each trait.\r\n",
      "  --p_sig P_SIG         P-value threshold used for statistical signifiance.\r\n",
      "                        Default is p=5.0e-8 (genome-wide significance).\r\n",
      "  --n_approx            Speed up FDR calculation by replacing the sample size\r\n",
      "                        of a SNP for each trait by the mean across SNPs (for\r\n",
      "                        each trait). Recommended.\r\n",
      "\r\n",
      "Winner's curse adjustment:\r\n",
      "  Options related to the winner's curse adjustment of estimates of effect\r\n",
      "  sizes from MTAG that could be used when replicating analyses.\r\n",
      "\r\n",
      "Miscellaneous:\r\n",
      "  --ld_ref_panel FOLDER_PATH\r\n",
      "                        Specify folder of the ld reference panel (split by\r\n",
      "                        chromosome) that will be used in the estimation of the\r\n",
      "                        error VCV (sigma). This option is passed to --ref-ld-\r\n",
      "                        chr and --w-ld-chr when running LD score regression.\r\n",
      "                        The default is to use the reference panel of LD scores\r\n",
      "                        computed from 1000 Genomes European subjects\r\n",
      "                        (eur_w_ld_chr) that is included with the distribution\r\n",
      "                        of MTAG\r\n",
      "  --time_limit TIME_LIMIT\r\n",
      "                        Set time limit (hours) on the numerical estimation of\r\n",
      "                        the variance covariance matrix for MTAG, after which\r\n",
      "                        the optimization routine will complete its current\r\n",
      "                        iteration and perform MTAG using the last iteration of\r\n",
      "                        the genetic VCV.\r\n",
      "  --std_betas           Results files will have standardized effect sizes,\r\n",
      "                        i.e., the weights 1/sqrt(2*MAF*(1-MAF)) are not\r\n",
      "                        applied when outputting MTAG results, where MAF is the\r\n",
      "                        minor allele frequency.\r\n",
      "  --tol TOL             Set the relative (x) tolerance when numerically\r\n",
      "                        estimating the genetic variance-covariance matrix. Not\r\n",
      "                        recommended to change unless you are facing strong\r\n",
      "                        runtime constraints for a large number of traits.\r\n",
      "  --numerical_omega     Option to use the MLE estimator of the genetic VCV\r\n",
      "                        matrix, implemented through a numerical routine.\r\n",
      "  --verbose             When used, will include output from running ldsc\r\n",
      "                        scripts as well additional information (such as\r\n",
      "                        optimization routine information.\r\n",
      "  --chunksize CHUNKSIZE\r\n",
      "                        Chunksize for reading in data.\r\n",
      "  --stream_stdout       Will streat mtag processing on console in addition to\r\n",
      "                        writing to log file.\r\n"
     ]
    }
   ],
   "source": [
    "# 1.1_access_help.bash\n",
    "!python ../mtag/mtag.py -h"
   ]
  },
  {
   "cell_type": "markdown",
   "metadata": {
    "slideshow": {
     "slide_type": "subslide"
    }
   },
   "source": [
    "### A. The two options that must always be specified\n",
    "\n",
    "\n",
    "1. `--sumstats [File1],[File2],..`\n",
    "    *  Comma-separated list of summary statistics files to apply MTAG. Currently, files must be whitespace-delimited and must either have the default column names or column names that are provided through options (see below).\n",
    "    *  Should also make sure that files can be read by `ldsc` (included in the `mtag` folder)\n",
    "2. `--out [output_folder][prefix]`\n",
    "    * The path provided consists of a folder `[output_folder]` (e.g., `../output/` or `./`)\n",
    "    * The `[prefix]` (e.g., `igss_mtag_tutorial_`) is prepended to the files produced by MTAG "
   ]
  },
  {
   "cell_type": "markdown",
   "metadata": {
    "slideshow": {
     "slide_type": "subslide"
    }
   },
   "source": [
    "### B. Sumstats file formatting"
   ]
  },
  {
   "cell_type": "markdown",
   "metadata": {
    "slideshow": {
     "slide_type": "fragment"
    }
   },
   "source": [
    "* The column names must be consistent across all sumstats files.\n",
    "    * At present `mtag` does not \"guess\" the column names (will hopefully do that soon).\n",
    "    * Column order does not matter.\n",
    "    * All files must be whitespace (tab) delimited"
   ]
  },
  {
   "cell_type": "markdown",
   "metadata": {
    "slideshow": {
     "slide_type": "fragment"
    }
   },
   "source": [
    "*The workshop files provided contain the \"default\" column names for MTAG*"
   ]
  },
  {
   "cell_type": "markdown",
   "metadata": {
    "slideshow": {
     "slide_type": "subslide"
    }
   },
   "source": [
    "### `bash 1.2_view_sumstats.bash`"
   ]
  },
  {
   "cell_type": "code",
   "execution_count": 2,
   "metadata": {
    "collapsed": false,
    "slideshow": {
     "slide_type": "fragment"
    }
   },
   "outputs": [
    {
     "name": "stdout",
     "output_type": "stream",
     "text": [
      "snpid\tchr\tbpos\ta1\ta2\tfreq\tz\tpval\tn\r\n",
      "rs2736372\t8\t11106041\tT\tC\t0.4179\t-7.71614161262\t1.209e-14\t111111.111111\r\n",
      "rs2060465\t8\t11162609\tT\tC\t0.6194\t7.69444599845\t1.422e-14\t62500.0\r\n",
      "rs10096421\t8\t10831868\tT\tG\t0.4646\t-7.561098219\t3.989e-14\t111111.111111\r\n",
      "rs2409722\t8\t11039816\tT\tG\t0.4627\t-7.38261601808\t1.553e-13\t111111.111111\r\n",
      "rs11991118\t8\t10939273\tT\tG\t0.5056\t7.32202915636\t2.443e-13\t111111.111111\r\n",
      "rs2736371\t8\t11105529\tA\tG\t0.3806\t-7.32009158327\t2.478e-13\t62500.0\r\n",
      "rs2736313\t8\t11086942\tT\tC\t0.4646\t-7.24228035161\t4.411e-13\t111111.111111\r\n",
      "rs876954\t8\t8310923\tA\tG\t0.4813\t-7.15791677597\t8.191e-13\t62500.0\r\n",
      "rs1533059\t8\t8684953\tA\tG\t0.4478\t-7.07412856424\t1.504e-12\t62500.0\r\n"
     ]
    }
   ],
   "source": [
    "# 1.2 view sample sumstats files (for format)\n",
    "!head ../data/1_OA2016_hm3samp_NEUR.txt # 1.2"
   ]
  },
  {
   "cell_type": "markdown",
   "metadata": {
    "slideshow": {
     "slide_type": "fragment"
    }
   },
   "source": [
    "** All of the columns shown above are necessary for MTAG to run ** "
   ]
  },
  {
   "cell_type": "code",
   "execution_count": 12,
   "metadata": {
    "collapsed": false,
    "slideshow": {
     "slide_type": "subslide"
    }
   },
   "outputs": [
    {
     "name": "stdout",
     "output_type": "stream",
     "text": [
      "rs165119\t18\t75317995\tT\tC\t0.1101\t0.0\t1.0\t27777.7777778\r\n",
      "rs1916337\t3\t165252023\tT\tC\t0.2444\t0.0\t1.0\t62500.0\r\n",
      "rs4878187\t9\t38227021\tT\tC\t0.8713\t0.0\t1.0\t40000.0\r\n",
      "rs8080313\t17\t35952983\tA\tG\t0.8396\t0.0\t1.0\t40000.0\r\n",
      "rs851997\t6\t151985550\tA\tG\t0.3787\t0.0\t1.0\t62500.0\r\n"
     ]
    }
   ],
   "source": [
    "!tail -5 ../data/1_OA2016_hm3samp_NEUR.txt"
   ]
  },
  {
   "cell_type": "code",
   "execution_count": 3,
   "metadata": {
    "collapsed": false,
    "slideshow": {
     "slide_type": "fragment"
    }
   },
   "outputs": [
    {
     "name": "stdout",
     "output_type": "stream",
     "text": [
      "rs322382\t5\t172198952\tT\tC\t0.3041\t-0.648595291061\t0.5166\t62500.0\r\n",
      "rs3795732\t1\t156564640\tA\tG\t0.7108\t-0.648595291061\t0.5166\t62500.0\r\n",
      "rs4111166\t9\t26524416\tT\tC\t0.4739\t0.648595291061\t0.5166\t111111.111111\r\n",
      "rs4491677\t2\t128789204\tA\tG\t0.2276\t-0.648595291061\t0.5166\t62500.0\r\n",
      "rs622272\t17\t14400878\tT\tG\t0.5\t-0.648595291061\t0.5166\t111111.111111\r\n",
      "rs842938\t2\t201404694\tT\tC\t0.459\t0.648595291061\t0.5166\t111111.111111\r\n"
     ]
    }
   ],
   "source": [
    "!sed -n '103995,104000p' ../data/1_OA2016_hm3samp_NEUR.txt "
   ]
  },
  {
   "cell_type": "markdown",
   "metadata": {
    "slideshow": {
     "slide_type": "subslide"
    }
   },
   "source": [
    "### Running MTAG with the defaults \n",
    "\n",
    "Using `mtag` with the default options implements the following steps:\n",
    "\n"
   ]
  },
  {
   "cell_type": "markdown",
   "metadata": {
    "slideshow": {
     "slide_type": "fragment"
    }
   },
   "source": [
    "1. Read in each summary statistics file in the list and \"munges\" (filters/clean) them, in particular MTAG:\n",
    "    * Only keeps SNPs with Minor Allele Frequency (MAF) $ \\geq 0.01$\n",
    "    * Only keeps SNPs with sample size $N \\geq \\frac{2}{3} F^{-1}_N(90)$ (greater than two-thirds of the 90th percentile)\n",
    "2. Merge the filtered GWAS summary statistics results together, taking the intersection of available SNPs (accounting for lists of SNPs to `include` and/or `exclude`).\n",
    "3. Estimate the residual covariance matrix, $\\Sigma_{LD}$, using the intercept of LD Score regression (`ldsc`, longest step).\n",
    "4. Estimate the genetic covariance matrix, $\\Omega$.\n",
    "5. Calculate MTAG-adjusted statistics and output results."
   ]
  },
  {
   "cell_type": "markdown",
   "metadata": {
    "slideshow": {
     "slide_type": "skip"
    }
   },
   "source": [
    "<ol start=\"2\">\n",
    "  <li>Merge the filtered GWAS summary statistics results together, taking the intersection of available SNPs (accounting for lists of SNPs to `include` and/or `exclude`).</li>\n",
    "</ol> \n"
   ]
  },
  {
   "cell_type": "markdown",
   "metadata": {
    "slideshow": {
     "slide_type": "skip"
    }
   },
   "source": [
    "<ol start=\"3\">\n",
    "<li>Estimate the residual covariance matrix, $\\Sigma_{LD}$, using the intercept of LD Score regression (`ldsc`, longest step). </li>"
   ]
  },
  {
   "cell_type": "markdown",
   "metadata": {
    "slideshow": {
     "slide_type": "skip"
    }
   },
   "source": [
    "<ol start=\"4\">\n",
    "<li>Estimate the genetic covariance matrix, $\\Omega$.</li>\n",
    "\n"
   ]
  },
  {
   "cell_type": "markdown",
   "metadata": {
    "slideshow": {
     "slide_type": "skip"
    }
   },
   "source": [
    "<ol start=\"5\">\n",
    "<li>Calculate MTAG-adjusted statistics and output results.</li>"
   ]
  },
  {
   "cell_type": "markdown",
   "metadata": {
    "slideshow": {
     "slide_type": "subslide"
    }
   },
   "source": [
    "### Running MTAG with the defaults \n",
    "\n",
    "** Call the `mtag.py` script via `python` **\n",
    "\n",
    "*Note: we use the `--stream_stdout` so that messages from MTAG are printed to the console in addition to the log file.*\n"
   ]
  },
  {
   "cell_type": "markdown",
   "metadata": {
    "slideshow": {
     "slide_type": "fragment"
    }
   },
   "source": [
    "#### `bash 1.3_mtag_default.bash`"
   ]
  },
  {
   "cell_type": "code",
   "execution_count": 5,
   "metadata": {
    "collapsed": false,
    "slideshow": {
     "slide_type": "fragment"
    }
   },
   "outputs": [
    {
     "name": "stdout",
     "output_type": "stream",
     "text": [
      "\n",
      "<><><<>><><><><><><><><><><><><><><><><><><><><><><><><><><><><><><><><><><>\n",
      "<>\n",
      "<> MTAG: Multitrait Analysis of GWAS \n",
      "<> Version: 1.0.3\n",
      "<> (C) 2017 Omeed Maghzian, Raymond Walters, and Patrick Turley\n",
      "<> Harvard University Department of Economics / Broad Institute of MIT and Harvard\n",
      "<> GNU General Public License v3\n",
      "<><><<>><><><><><><><><><><><><><><><><><><><><><><><><><><><><><><><><><><>\n",
      "<> Note:  It is recommended to run your own QC on the input before using this program. \n",
      "<> Software-related correspondence: maghzian@nber.org \n",
      "<> All other correspondence: paturley@broadinstitute.org \n",
      "<><><<>><><><><><><><><><><><><><><><><><><><><><><><><><><><><><><><><><><>\n",
      "\n",
      "\n",
      "Calling ./mtag.py \\\n",
      "--stream-stdout  \\\n",
      "--sumstats ../data/1_OA2016_hm3samp_NEUR.txt,../data/1_OA2016_hm3samp_SWB.txt \\\n",
      "--out ../output/1_basics/1.3_mtag_default_NS \n",
      "\n",
      "Beginning MTAG analysis...\n",
      "Read in Trait 1 summary statistics (185458 SNPs) from ../data/1_OA2016_hm3samp_NEUR.txt ...\n",
      "<><><<>><><><><><><><><><><><><><><><><><><><><><><><><><><><><><><><><><><>\n",
      "Munging Trait 1  <><><<>><><><><><><><><><><><><><><><><><><><><><><><><><><\n",
      "<><><<>><><><><><><><><><><><><><><><><><><><><><><><><><><><><><><><><><><>\n",
      "Interpreting column names as follows:\n",
      "snpid:\tVariant ID (e.g., rs number)\n",
      "n:\tSample size\n",
      "a1:\tAllele 1, interpreted as ref allele for signed sumstat.\n",
      "pval:\tp-Value\n",
      "a2:\tAllele 2, interpreted as non-ref allele for signed sumstat.\n",
      "freq:\tAllele frequency\n",
      "z:\tDirectional summary statistic as specified by --signed-sumstats.\n",
      "\n",
      "Reading sumstats from provided DataFrame into memory 10000000 SNPs at a time.\n",
      ". done\n",
      "Read 185458 SNPs from --sumstats file.\n",
      "Removed 0 SNPs with missing values.\n",
      "Removed 0 SNPs with INFO <= None.\n",
      "Removed 0 SNPs with MAF <= 0.01.\n",
      "Removed 0 SNPs with out-of-bounds p-values.\n",
      "Removed 0 variants that were not SNPs. Note: strand ambiguous SNPs were not dropped.\n",
      "185458 SNPs remain.\n",
      "Removed 0 SNPs with duplicated rs numbers (185458 SNPs remain).\n",
      "Removed 162680 SNPs with N < 74074.074074 (22778 SNPs remain).\n",
      "Median value of SIGNED_SUMSTATS was 0.0, which seems sensible.\n",
      "Dropping snps with null values\n",
      "\n",
      "Metadata:\n",
      "Mean chi^2 = 1.467\n",
      "Lambda GC = 1.366\n",
      "Max chi^2 = 59.523\n",
      "20 Genome-wide significant SNPs (some may have been removed by filtering).\n",
      "\n",
      "Conversion finished at Thu Oct 19 02:03:44 2017\n",
      "Total time elapsed: 0.7s\n",
      "<><><<>><><><><><><><><><><><><><><><><><><><><><><><><><><><><><><><><><><>\n",
      "Munging of Trait 1 complete. SNPs remaining:\t 22778\n",
      "<><><<>><><><><><><><><><><><><><><><><><><><><><><><><><><><><><><><><><><>\n",
      "\n",
      "Read in Trait 2 summary statistics (167911 SNPs) from ../data/1_OA2016_hm3samp_SWB.txt ...\n",
      "<><><<>><><><><><><><><><><><><><><><><><><><><><><><><><><><><><><><><><><>\n",
      "Munging Trait 2  <><><<>><><><><><><><><><><><><><><><><><><><><><><><><><><\n",
      "<><><<>><><><><><><><><><><><><><><><><><><><><><><><><><><><><><><><><><><>\n",
      "Interpreting column names as follows:\n",
      "snpid:\tVariant ID (e.g., rs number)\n",
      "n:\tSample size\n",
      "a1:\tAllele 1, interpreted as ref allele for signed sumstat.\n",
      "pval:\tp-Value\n",
      "a2:\tAllele 2, interpreted as non-ref allele for signed sumstat.\n",
      "freq:\tAllele frequency\n",
      "z:\tDirectional summary statistic as specified by --signed-sumstats.\n",
      "\n",
      "Reading sumstats from provided DataFrame into memory 10000000 SNPs at a time.\n",
      ". done\n",
      "Read 167911 SNPs from --sumstats file.\n",
      "Removed 0 SNPs with missing values.\n",
      "Removed 0 SNPs with INFO <= None.\n",
      "Removed 0 SNPs with MAF <= 0.01.\n",
      "Removed 0 SNPs with out-of-bounds p-values.\n",
      "Removed 0 variants that were not SNPs. Note: strand ambiguous SNPs were not dropped.\n",
      "167911 SNPs remain.\n",
      "Removed 0 SNPs with duplicated rs numbers (167911 SNPs remain).\n",
      "Removed 102537 SNPs with N < 74074.074074 (65374 SNPs remain).\n",
      "Median value of SIGNED_SUMSTATS was 0.0, which seems sensible.\n",
      "Dropping snps with null values\n",
      "\n",
      "Metadata:\n",
      "Mean chi^2 = 1.208\n",
      "Lambda GC = 1.188\n",
      "Max chi^2 = 29.353\n",
      "1 Genome-wide significant SNPs (some may have been removed by filtering).\n",
      "\n",
      "Conversion finished at Thu Oct 19 02:03:46 2017\n",
      "Total time elapsed: 1.21s\n",
      "<><><<>><><><><><><><><><><><><><><><><><><><><><><><><><><><><><><><><><><>\n",
      "Munging of Trait 2 complete. SNPs remaining:\t 65374\n",
      "<><><<>><><><><><><><><><><><><><><><><><><><><><><><><><><><><><><><><><><>\n",
      "\n",
      "Trait 2 summary statistics: \t 20321 SNPs remaining merging with previous traits.\n",
      "... Merge of GWAS summary statistics complete. Number of SNPs:\t 20321\n",
      "Using 20321 SNPs to estimate Omega (0 SNPs excluded due to strand ambiguity)\n",
      "Estimating sigma..\n",
      "Checking for positive definiteness ..\n",
      "Sigma hat:\n",
      "[[ 1.043 -0.129]\n",
      " [-0.129  0.966]]\n",
      "Beginning estimation of Omega ...\n",
      "Using GMM estimator of Omega ..\n",
      "Checking for positive definiteness ..\n",
      "Completed estimation of Omega ...\n",
      "Beginning MTAG calculations...\n",
      " ... Completed MTAG calculations.\n",
      "Writing Phenotype 1 to file ...\n",
      "Writing Phenotype 2 to file ...\n",
      "\n",
      "Summary of MTAG results:\n",
      "------------------------\n",
      "  Trait                 N (max)  N (mean)  # SNPs used  GWAS mean chi^2  MTAG mean chi^2  GWAS equiv. (max) N\n",
      "1  ...hm3samp_NEUR.txt  111111   111111    20321        1.407            1.488            133309             \n",
      "2  ..._hm3samp_SWB.txt  111111   111111    20321        1.269            1.408            168490             \n",
      "\n",
      "Estimated Omega:\n",
      "[[  3.817e-06  -2.199e-06]\n",
      " [ -2.199e-06   2.336e-06]]\n",
      "\n",
      "Estimated Sigma:\n",
      "[[ 1.043 -0.129]\n",
      " [-0.129  0.966]]\n",
      "\n",
      " \n",
      "MTAG results saved to file.\n",
      "MTAG complete. Time elapsed: 27.0710499287s\n"
     ]
    }
   ],
   "source": [
    "# 1.3_mtag_default.bash  \n",
    "!python ../mtag/mtag.py  \\\n",
    "        --sumstats ../data/1_OA2016_hm3samp_NEUR.txt,../data/1_OA2016_hm3samp_SWB.txt \\\n",
    "        --out ../output/1_basics/1.3_mtag_default_NS \\\n",
    "        --stream_stdout\n"
   ]
  },
  {
   "cell_type": "markdown",
   "metadata": {
    "slideshow": {
     "slide_type": "slide"
    }
   },
   "source": [
    "## Interpreting Output"
   ]
  },
  {
   "cell_type": "markdown",
   "metadata": {
    "slideshow": {
     "slide_type": "subslide"
    }
   },
   "source": [
    "### Reading the log file: masthead\n",
    "\n",
    "```\n",
    "<><><<>><><><><><><><><><><><><><><><><><><><><><><><><><><><><><><><><><><>\n",
    "<>\n",
    "<> MTAG: Multitrait Analysis of GWAS \n",
    "<> Version: 1.0.1\n",
    "<> (C) 2017 Omeed Maghzian, Raymond Walters, and Patrick Turley\n",
    "<> Harvard University Department of Economics / Broad Institute of MIT and Harvard\n",
    "<> GNU General Public License v3\n",
    "<><><<>><><><><><><><><><><><><><><><><><><><><><><><><><><><><><><><><><><>\n",
    "<> Note:  It is recommended to run your own QC on the input before using this program. \n",
    "<> Software-related correspondence: maghzian@nber.org \n",
    "<> All other correspondence: paturley@broadinstitute.org<><><<>><><><><><><><><><><><><><><><><><><><><><><><><><><><><><><><><><><>\n",
    "\n",
    "\n",
    "Calling ./mtag.py \\\n",
    "--stream-stdout  \\\n",
    "--sumstats ../data/1_OA2016_hm3samp_NEUR.txt,../data/1_OA2016_hm3samp_SWB.txt \\\n",
    "--out ../output/part_2/igss_mtag_default_NS \n",
    "\n",
    "Beginning MTAG analysis...\n",
    "```"
   ]
  },
  {
   "cell_type": "markdown",
   "metadata": {
    "slideshow": {
     "slide_type": "subslide"
    }
   },
   "source": [
    "### Reading the log file: munging\n",
    "\n",
    "```\n",
    "<><><<>><><><><><><><><><><><><><><><><><><><><><><><><><><><><><><><><><><>\n",
    "Munging Trait 1  <><><<>><><><><><><><><><><><><><><><><><><><><><><><><><><\n",
    "<><><<>><><><><><><><><><><><><><><><><><><><><><><><><><><><><><><><><><><>\n",
    "Interpreting column names as follows:\n",
    "snpid:\tVariant ID (e.g., rs number)\n",
    "n:\tSample size\n",
    "a1:\tAllele 1, interpreted as ref allele for signed sumstat.\n",
    "pval:\tp-Value\n",
    "a2:\tAllele 2, interpreted as non-ref allele for signed sumstat.\n",
    "freq:\tAllele frequency\n",
    "z:\tDirectional summary statistic as specified by --signed-sumstats.\n",
    "...\n",
    "...\n",
    "...\n",
    "```"
   ]
  },
  {
   "cell_type": "markdown",
   "metadata": {
    "slideshow": {
     "slide_type": "subslide"
    }
   },
   "source": [
    "### Reading the log file: estimation\n",
    "\n",
    "```\n",
    "...\n",
    "... Merge of GWAS summary statistics complete. Number of SNPs:\t 20321\n",
    "Using 20321 SNPs to estimate Omega (0 SNPs excluded due to strand ambiguity)\n",
    "Estimating sigma..\n",
    "Checking for positive definiteness ..\n",
    "Sigma hat:\n",
    "[[ 1.043 -0.129]\n",
    " [-0.129  0.966]]\n",
    "Beginning estimation of Omega ...\n",
    "Using GMM estimator of Omega ..\n",
    "Checking for positive definiteness ..\n",
    "Completed estimation of Omega ...\n",
    "Beginning MTAG calculations...\n",
    " ... Completed MTAG calculations.\n",
    "Writing Phenotype 1 to file ...\n",
    "Writing Phenotype 2 to file ...\n",
    "...\n",
    "```\n"
   ]
  },
  {
   "cell_type": "markdown",
   "metadata": {
    "slideshow": {
     "slide_type": "subslide"
    }
   },
   "source": [
    "### Reading the Log File (Summary Output)\n",
    "\n",
    "```\n",
    "\n",
    "Summary of MTAG results:\n",
    "------------------------\n",
    "  Trait                 N (max)  N (mean)  # SNPs used  GWAS mean chi^2  MTAG mean chi^2  GWAS equiv. (max) N\n",
    "1  ...hm3samp_NEUR.txt  111111   111111    20321        1.407            1.488            133309             \n",
    "2  ..._hm3samp_SWB.txt  111111   111111    20321        1.269            1.408            168490             \n",
    "\n",
    "Estimated Omega:\n",
    "[[  3.817e-06  -2.199e-06]\n",
    " [ -2.199e-06   2.336e-06]]\n",
    "\n",
    "Estimated Sigma:\n",
    "[[ 1.043 -0.129]\n",
    " [-0.129  0.966]]\n",
    "```"
   ]
  },
  {
   "cell_type": "markdown",
   "metadata": {
    "slideshow": {
     "slide_type": "fragment"
    }
   },
   "source": [
    "#### (genetic correlation estimated by MTAG)\n",
    "```\n",
    "[[ 1.       , -0.7363645],\n",
    " [-0.7363645,  1.       ]]\n",
    "```"
   ]
  },
  {
   "cell_type": "markdown",
   "metadata": {
    "slideshow": {
     "slide_type": "subslide"
    }
   },
   "source": [
    "### Results files"
   ]
  },
  {
   "cell_type": "markdown",
   "metadata": {
    "slideshow": {
     "slide_type": "fragment"
    }
   },
   "source": [
    "#### `bash 1.3b_list_files.bash`"
   ]
  },
  {
   "cell_type": "code",
   "execution_count": 34,
   "metadata": {
    "collapsed": false,
    "slideshow": {
     "slide_type": "fragment"
    }
   },
   "outputs": [
    {
     "name": "stdout",
     "output_type": "stream",
     "text": [
      "../output/1_basics/1.3_mtag_default_NS.log\r\n",
      "../output/1_basics/1.3_mtag_default_NS_omega_hat.txt\r\n",
      "../output/1_basics/1.3_mtag_default_NS_sigma_hat.txt\r\n",
      "../output/1_basics/1.3_mtag_default_NS_trait_1.txt\r\n",
      "../output/1_basics/1.3_mtag_default_NS_trait_2.txt\r\n"
     ]
    }
   ],
   "source": [
    "# 1.3b_list_files.bash\n",
    "!ls ../output/1_basics/1.3*\n"
   ]
  },
  {
   "cell_type": "markdown",
   "metadata": {
    "slideshow": {
     "slide_type": "subslide"
    }
   },
   "source": [
    "### Results files\n",
    "\n",
    "T + 3 files (T number of input sumstats), all whitespace-delimited\n",
    "\n",
    "* `*.log`: Log file (shown above)\n",
    "* `*_omega_hat.txt`: Estimated genetic covariance matrix\n",
    "* `*_sigma_hat.txt`: Estimated residual covariance matrix\n"
   ]
  },
  {
   "cell_type": "markdown",
   "metadata": {
    "collapsed": true,
    "slideshow": {
     "slide_type": "fragment"
    }
   },
   "source": [
    "* `*_trait_[t].txt`: MTAG results for trait $t=1,\\ldots, T$\n",
    "    * Let's look at these files a bit more ...\n",
    "    "
   ]
  },
  {
   "cell_type": "markdown",
   "metadata": {
    "slideshow": {
     "slide_type": "subslide"
    }
   },
   "source": [
    "### `bash 1.3c_view_mtag_output.bash`"
   ]
  },
  {
   "cell_type": "code",
   "execution_count": 6,
   "metadata": {
    "collapsed": false,
    "slideshow": {
     "slide_type": "subslide"
    }
   },
   "outputs": [
    {
     "name": "stdout",
     "output_type": "stream",
     "text": [
      "snpid\tchr\tbpos\ta1\ta2\tz\tn\tfreq\tmtag_beta\tmtag_se\tmtag_z\tmtag_pval\r\n",
      "rs2736372\t8\t11106041\tT\tC\t-7.71614161262\t111111.111111\t0.4179\t-0.0312843727759\t0.00401008053375\t-7.80143254297\t6.12083232605e-15\r\n",
      "rs10096421\t8\t10831868\tT\tG\t-7.561098219\t111111.111111\t0.4646\t-0.0292358562051\t0.0039656035404\t-7.37235982046\t1.67633824925e-13\r\n",
      "rs2409722\t8\t11039816\tT\tG\t-7.38261601808\t111111.111111\t0.4627\t-0.0314168522186\t0.00396670505601\t-7.92013819404\t2.37246749e-15\r\n",
      "rs11991118\t8\t10939273\tT\tG\t7.32202915636\t111111.111111\t0.5056\t0.0295263257704\t0.00395590010421\t7.46387041953\t8.40172307848e-14\r\n",
      "rs2736313\t8\t11086942\tT\tC\t-7.24228035161\t111111.111111\t0.4646\t-0.0296988957677\t0.0039656035404\t-7.48912377779\t6.93349296434e-14\r\n",
      "rs7016385\t8\t10779472\tT\tC\t7.014366598\t111111.111111\t0.5373\t0.0259293691662\t0.00396670505601\t6.53675249359\t6.28689598667e-11\r\n",
      "rs11250130\t8\t11214455\tA\tG\t6.609661126\t111111.111111\t0.4869\t0.026363608706\t0.00395701034061\t6.66250690212\t2.69195672093e-11\r\n",
      "rs7001819\t8\t11650475\tT\tC\t-6.40845674838\t111111.111111\t0.5728\t-0.0237731953794\t0.00399825927266\t-5.94588638658\t2.74964820715e-09\r\n",
      "rs4240671\t8\t10767748\tA\tG\t6.35561088027\t111111.111111\t0.4981\t0.0233347188014\t0.00395568054249\t5.89904026646\t3.65622009607e-09\r\n"
     ]
    }
   ],
   "source": [
    "!head \"../output/1_basics/1.3_mtag_default_NS_trait_1.txt\""
   ]
  },
  {
   "cell_type": "markdown",
   "metadata": {
    "slideshow": {
     "slide_type": "subslide"
    }
   },
   "source": [
    "snpid|\ta1|\ta2|\tz|mtag_beta\t|mtag_se\t|mtag_z\t|mtag_pval\n",
    "-----|----|------|----|----|---|----|---|---|---|---|----\n",
    "rs2736372 |\tT |\tC |\t-7.71614161262 |\t\t-0.0312843727759 |\t0.00401008053375 |\t-7.80143254297 |\t6.12083232605e-15\n",
    "rs10096421 |\tT |\tG |\t-7.561098219 |\t\t\t-0.0292358562051 |\t0.0039656035404 |\t-7.37235982046 |\t1.67633824925e-13\n",
    "rs2409722 |\tT |\tG |\t-7.38261601808 |\t\t\t-0.0314168522186 |\t0.00396670505601 |\t-7.92013819404 |\t2.37246749e-15\n",
    "rs11991118 |\t\tT |\tG |\t7.32202915636 |\t\t0.0295263257704 |\t0.00395590010421 |\t7.46387041953 |\t8.40172307848e-14\n",
    "rs2736313 |\t\tT |\tC |\t-7.24228035161 |\t\t-0.0296988957677 |\t0.0039656035404 |\t-7.48912377779 |\t6.93349296434e-14"
   ]
  },
  {
   "cell_type": "markdown",
   "metadata": {
    "slideshow": {
     "slide_type": "subslide"
    }
   },
   "source": [
    "snpid|\ta1|\ta2|\tz|mtag_beta\t|mtag_se\t|mtag_z\t|mtag_pval\n",
    "-----|----|------|----|----|---|----|---|---|---|---|----\n",
    "rs2736372 |\tT |\tC |\t**-7.71614161262** |\t\t-0.0312843727759 |\t0.00401008053375 |\t**-7.80143254297** |\t6.12083232605e-15\n",
    "rs10096421 |\tT |\tG |\t**-7.561098219** |\t\t\t-0.0292358562051 |\t0.0039656035404 |\t**-7.37235982046** |\t1.67633824925e-13\n",
    "rs2409722 |\tT |\tG |\t-7.38261601808 |\t\t\t-0.0314168522186 |\t0.00396670505601 |\t-7.92013819404 |\t2.37246749e-15\n",
    "rs11991118 |\t\tT |\tG |\t7.32202915636 |\t\t0.0295263257704 |\t0.00395590010421 |\t7.46387041953 |\t8.40172307848e-14\n",
    "rs2736313 |\t\tT |\tC |\t-7.24228035161 |\t\t-0.0296988957677 |\t0.0039656035404 |\t-7.48912377779 |\t6.93349296434e-14"
   ]
  },
  {
   "cell_type": "markdown",
   "metadata": {
    "slideshow": {
     "slide_type": "fragment"
    }
   },
   "source": [
    "### Some comments:\n",
    "\n",
    "* Only contains SNPs the survive all filters\n",
    "  * Ordered the same across traits\n",
    "* All columns beginning with `mtag_` is produced by MTAG\n",
    "* Default `mtag_beta` and `mtag_se` are unstandardized by genotype\n",
    "  * Use the ``--std_betas`` options to produce standardized beta/se\n",
    "* Allele columns are aligned across traits (matched to orientation of first input file)\n",
    "\n",
    "#### Warning: low sample might lead to non-positive definite estimates of $\\Omega$, $\\Sigma_{LD}$ (truncated by program)!"
   ]
  },
  {
   "cell_type": "markdown",
   "metadata": {
    "slideshow": {
     "slide_type": "subslide"
    }
   },
   "source": [
    "### Column name options \n",
    "\n",
    "Column | option | Default \n",
    "-------| ------ | -------\n",
    "SNP ID | `--snp_name` | `snpid` \n",
    "Chromosome | `--chr_name` | `chr`\n",
    "Base-pair position | `--bpos_name` | `bpos`\n",
    "Z-score | `--z_name` | `z`\\*\n",
    "sample size | `--n_name` | `n`\n",
    "expected allele frequency | `--eaf_name` | `freq` \n",
    "Allele 1 (effect allele) | `--a1_name` | `a1`\n",
    "Allele 2 (other allele) | `--a2_name` | `a2`\n",
    "\n"
   ]
  },
  {
   "cell_type": "markdown",
   "metadata": {
    "slideshow": {
     "slide_type": "subslide"
    }
   },
   "source": [
    "### Specifying matrix paths \n",
    "\n",
    "* Use:\n",
    "  * ``--gencov_path`` to specify $\\Omega$\n",
    "  * ``--residcov_path`` to specify $\\Sigma_{LD}$\n",
    "* Files must be in the same format as produced by MTAG (contain only the matrix)."
   ]
  },
  {
   "cell_type": "markdown",
   "metadata": {
    "slideshow": {
     "slide_type": "fragment"
    }
   },
   "source": [
    "### Let's try it out . . ."
   ]
  },
  {
   "cell_type": "markdown",
   "metadata": {
    "slideshow": {
     "slide_type": "fragment"
    }
   },
   "source": [
    "### `bash 1.4_mtag_matrices.bash`"
   ]
  },
  {
   "cell_type": "code",
   "execution_count": 11,
   "metadata": {
    "collapsed": false,
    "slideshow": {
     "slide_type": "fragment"
    }
   },
   "outputs": [
    {
     "name": "stdout",
     "output_type": "stream",
     "text": [
      "\n",
      "<><><<>><><><><><><><><><><><><><><><><><><><><><><><><><><><><><><><><><><>\n",
      "<>\n",
      "<> MTAG: Multitrait Analysis of GWAS \n",
      "<> Version: 1.0.2\n",
      "<> (C) 2017 Omeed Maghzian, Raymond Walters, and Patrick Turley\n",
      "<> Harvard University Department of Economics / Broad Institute of MIT and Harvard\n",
      "<> GNU General Public License v3\n",
      "<><><<>><><><><><><><><><><><><><><><><><><><><><><><><><><><><><><><><><><>\n",
      "<> Note:  It is recommended to run your own QC on the input before using this program. \n",
      "<> Software-related correspondence: maghzian@nber.org \n",
      "<> All other correspondence: paturley@broadinstitute.org \n",
      "<><><<>><><><><><><><><><><><><><><><><><><><><><><><><><><><><><><><><><><>\n",
      "\n",
      "\n",
      "Calling ./mtag.py \\\n",
      "--gencov-path ../output/1_basics/1.3_mtag_default_NS_omega_hat.txt \\\n",
      "--stream-stdout  \\\n",
      "--residcov-path ../output/1_basics/1.3_mtag_default_NS_sigma_hat.txt \\\n",
      "--sumstats ../data/1_OA2016_hm3samp_NEUR.txt,../data/1_OA2016_hm3samp_SWB.txt \\\n",
      "--out ../output/1_basics/1.4_mtag_withMat_NS \n",
      "\n",
      "Beginning MTAG analysis...\n",
      "Read in Trait 1 summary statistics (185458 SNPs) from ../data/1_OA2016_hm3samp_NEUR.txt ...\n",
      "<><><<>><><><><><><><><><><><><><><><><><><><><><><><><><><><><><><><><><><>\n",
      "Munging Trait 1  <><><<>><><><><><><><><><><><><><><><><><><><><><><><><><><\n",
      "<><><<>><><><><><><><><><><><><><><><><><><><><><><><><><><><><><><><><><><>\n",
      "Interpreting column names as follows:\n",
      "snpid:\tVariant ID (e.g., rs number)\n",
      "n:\tSample size\n",
      "a1:\tAllele 1, interpreted as ref allele for signed sumstat.\n",
      "pval:\tp-Value\n",
      "a2:\tAllele 2, interpreted as non-ref allele for signed sumstat.\n",
      "freq:\tAllele frequency\n",
      "z:\tDirectional summary statistic as specified by --signed-sumstats.\n",
      "\n",
      "Reading sumstats from provided DataFrame into memory 10000000 SNPs at a time.\n",
      ". done\n",
      "Read 185458 SNPs from --sumstats file.\n",
      "Removed 0 SNPs with missing values.\n",
      "Removed 0 SNPs with INFO <= None.\n",
      "Removed 0 SNPs with MAF <= 0.01.\n",
      "Removed 0 SNPs with out-of-bounds p-values.\n",
      "Removed 0 variants that were not SNPs. Note: strand ambiguous SNPs were not dropped.\n",
      "185458 SNPs remain.\n",
      "Removed 0 SNPs with duplicated rs numbers (185458 SNPs remain).\n",
      "Removed 162680 SNPs with N < 74074.074074 (22778 SNPs remain).\n",
      "Median value of SIGNED_SUMSTATS was 0.0, which seems sensible.\n",
      "Dropping snps with null values\n",
      "\n",
      "Metadata:\n",
      "Mean chi^2 = 1.467\n",
      "Lambda GC = 1.366\n",
      "Max chi^2 = 59.523\n",
      "20 Genome-wide significant SNPs (some may have been removed by filtering).\n",
      "\n",
      "Conversion finished at Wed Oct 18 16:09:14 2017\n",
      "Total time elapsed: 0.61s\n",
      "<><><<>><><><><><><><><><><><><><><><><><><><><><><><><><><><><><><><><><><>\n",
      "Munging of Trait 1 complete. SNPs remaining:\t 22778\n",
      "<><><<>><><><><><><><><><><><><><><><><><><><><><><><><><><><><><><><><><><>\n",
      "\n",
      "Read in Trait 2 summary statistics (167911 SNPs) from ../data/1_OA2016_hm3samp_SWB.txt ...\n",
      "<><><<>><><><><><><><><><><><><><><><><><><><><><><><><><><><><><><><><><><>\n",
      "Munging Trait 2  <><><<>><><><><><><><><><><><><><><><><><><><><><><><><><><\n",
      "<><><<>><><><><><><><><><><><><><><><><><><><><><><><><><><><><><><><><><><>\n",
      "Interpreting column names as follows:\n",
      "snpid:\tVariant ID (e.g., rs number)\n",
      "n:\tSample size\n",
      "a1:\tAllele 1, interpreted as ref allele for signed sumstat.\n",
      "pval:\tp-Value\n",
      "a2:\tAllele 2, interpreted as non-ref allele for signed sumstat.\n",
      "freq:\tAllele frequency\n",
      "z:\tDirectional summary statistic as specified by --signed-sumstats.\n",
      "\n",
      "Reading sumstats from provided DataFrame into memory 10000000 SNPs at a time.\n",
      ". done\n",
      "Read 167911 SNPs from --sumstats file.\n",
      "Removed 0 SNPs with missing values.\n",
      "Removed 0 SNPs with INFO <= None.\n",
      "Removed 0 SNPs with MAF <= 0.01.\n",
      "Removed 0 SNPs with out-of-bounds p-values.\n",
      "Removed 0 variants that were not SNPs. Note: strand ambiguous SNPs were not dropped.\n",
      "167911 SNPs remain.\n",
      "Removed 0 SNPs with duplicated rs numbers (167911 SNPs remain).\n",
      "Removed 102537 SNPs with N < 74074.074074 (65374 SNPs remain).\n",
      "Median value of SIGNED_SUMSTATS was 0.0, which seems sensible.\n",
      "Dropping snps with null values\n",
      "\n",
      "Metadata:\n",
      "Mean chi^2 = 1.208\n",
      "Lambda GC = 1.188\n",
      "Max chi^2 = 29.353\n",
      "1 Genome-wide significant SNPs (some may have been removed by filtering).\n",
      "\n",
      "Conversion finished at Wed Oct 18 16:09:15 2017\n",
      "Total time elapsed: 0.74s\n",
      "<><><<>><><><><><><><><><><><><><><><><><><><><><><><><><><><><><><><><><><>\n",
      "Munging of Trait 2 complete. SNPs remaining:\t 65374\n",
      "<><><<>><><><><><><><><><><><><><><><><><><><><><><><><><><><><><><><><><><>\n",
      "\n",
      "Trait 2 summary statistics: \t 20321 SNPs remaining merging with previous traits.\n",
      "... Merge of GWAS summary statistics complete. Number of SNPs:\t 20321\n",
      "Using 20321 SNPs to estimate Omega (0 SNPs excluded due to strand ambiguity)\n",
      "Checking for positive definiteness ..\n",
      "Sigma hat:\n",
      "[[ 1.043 -0.129]\n",
      " [-0.129  0.966]]\n",
      "Beginning MTAG calculations...\n",
      " ... Completed MTAG calculations.\n",
      "Writing Phenotype 1 to file ...\n",
      "Writing Phenotype 2 to file ...\n",
      "\n",
      "Summary of MTAG results:\n",
      "------------------------\n",
      "  Trait                 N (max)  N (mean)  # SNPs used  GWAS mean chi^2  MTAG mean chi^2  GWAS equiv. (max) N\n",
      "1  ...hm3samp_NEUR.txt  111111   111111    20321        1.407            1.488            133309             \n",
      "2  ..._hm3samp_SWB.txt  111111   111111    20321        1.269            1.408            168490             \n",
      "\n",
      "Estimated Omega:\n",
      "[[  3.817e-06  -2.199e-06]\n",
      " [ -2.199e-06   2.336e-06]]\n",
      "\n",
      "Estimated Sigma:\n",
      "[[ 1.043 -0.129]\n",
      " [-0.129  0.966]]\n",
      "\n",
      " \n",
      "MTAG results saved to file.\n",
      "MTAG complete. Time elapsed: 3.93074512482s\n"
     ]
    }
   ],
   "source": [
    "!python ../mtag/mtag.py  \\\n",
    "    --sumstats ../data/1_OA2016_hm3samp_NEUR.txt,../data/1_OA2016_hm3samp_SWB.txt \\\n",
    "    --out ../output/1_basics/1.4_mtag_withMat_NS \\\n",
    "    --gencov_path ../output/1_basics/1.3_mtag_default_NS_omega_hat.txt \\\n",
    "    --residcov_path ../output/1_basics/1.3_mtag_default_NS_sigma_hat.txt \\\n",
    "    --stream_stdout\n"
   ]
  },
  {
   "cell_type": "markdown",
   "metadata": {
    "slideshow": {
     "slide_type": "subslide"
    }
   },
   "source": [
    "### Filtering: maintain  $\\Omega$, $\\Sigma_j$ assumptions"
   ]
  },
  {
   "cell_type": "markdown",
   "metadata": {
    "slideshow": {
     "slide_type": "subslide"
    }
   },
   "source": [
    "# Back to Patrick Turley"
   ]
  },
  {
   "cell_type": "markdown",
   "metadata": {
    "slideshow": {
     "slide_type": "slide"
    }
   },
   "source": [
    "## 2. Special Options\n",
    "\n",
    "* See Online methods of paper for detailed description\n",
    "* Be cognizant of the assumptions implicit in each option!"
   ]
  },
  {
   "cell_type": "markdown",
   "metadata": {
    "slideshow": {
     "slide_type": "fragment"
    }
   },
   "source": [
    "#### Sumstats we will be using \n",
    "\n",
    "1. EA3 Meta-analysis (Okbay et al. 2016): `EducAtt_ea3.txt`\n",
    "2. Edu_years GWAS with UKB interim release: `EducAtt_ukb.txt`\n"
   ]
  },
  {
   "cell_type": "markdown",
   "metadata": {
    "slideshow": {
     "slide_type": "subslide"
    }
   },
   "source": [
    "### Without special options:\n",
    "\n"
   ]
  },
  {
   "cell_type": "code",
   "execution_count": 17,
   "metadata": {
    "collapsed": false,
    "slideshow": {
     "slide_type": "fragment"
    }
   },
   "outputs": [
    {
     "name": "stdout",
     "output_type": "stream",
     "text": [
      "\n",
      "<><><<>><><><><><><><><><><><><><><><><><><><><><><><><><><><><><><><><><><>\n",
      "<>\n",
      "<> MTAG: Multitrait Analysis of GWAS \n",
      "<> Version: 1.0.2\n",
      "<> (C) 2017 Omeed Maghzian, Raymond Walters, and Patrick Turley\n",
      "<> Harvard University Department of Economics / Broad Institute of MIT and Harvard\n",
      "<> GNU General Public License v3\n",
      "<><><<>><><><><><><><><><><><><><><><><><><><><><><><><><><><><><><><><><><>\n",
      "<> Note:  It is recommended to run your own QC on the input before using this program. \n",
      "<> Software-related correspondence: maghzian@nber.org \n",
      "<> All other correspondence: paturley@broadinstitute.org \n",
      "<><><<>><><><><><><><><><><><><><><><><><><><><><><><><><><><><><><><><><><>\n",
      "\n",
      "\n",
      "Calling ./mtag.py \\\n",
      "--stream-stdout  \\\n",
      "--sumstats ../data/EducAtt_ea2.txt,../data/EducAtt_ukb.txt \\\n",
      "--out ../output/2_special_opts/2.0_mtag_EA \n",
      "\n",
      "Beginning MTAG analysis...\n",
      "Read in Trait 1 summary statistics (8146840 SNPs) from ../data/EducAtt_ea2.txt ...\n",
      "<><><<>><><><><><><><><><><><><><><><><><><><><><><><><><><><><><><><><><><>\n",
      "Munging Trait 1  <><><<>><><><><><><><><><><><><><><><><><><><><><><><><><><\n",
      "<><><<>><><><><><><><><><><><><><><><><><><><><><><><><><><><><><><><><><><>\n",
      "Interpreting column names as follows:\n",
      "snpid:\tVariant ID (e.g., rs number)\n",
      "n:\tSample size\n",
      "a1:\tAllele 1, interpreted as ref allele for signed sumstat.\n",
      "pval:\tp-Value\n",
      "a2:\tAllele 2, interpreted as non-ref allele for signed sumstat.\n",
      "freq:\tAllele frequency\n",
      "z:\tDirectional summary statistic as specified by --signed-sumstats.\n",
      "\n",
      "Reading sumstats from provided DataFrame into memory 10000000 SNPs at a time.\n",
      ". done\n",
      "Read 8146840 SNPs from --sumstats file.\n",
      "Removed 0 SNPs with missing values.\n",
      "Removed 0 SNPs with INFO <= None.\n",
      "Removed 0 SNPs with MAF <= 0.01.\n",
      "Removed 0 SNPs with out-of-bounds p-values.\n",
      "Removed 0 variants that were not SNPs. Note: strand ambiguous SNPs were not dropped.\n",
      "8146840 SNPs remain.\n",
      "Removed 0 SNPs with duplicated rs numbers (8146840 SNPs remain).\n",
      "Removed 4434138 SNPs with N < 74074.074074 (3712702 SNPs remain).\n",
      "Median value of SIGNED_SUMSTATS was 0.0, which seems sensible.\n",
      "Dropping snps with null values\n",
      "\n",
      "Metadata:\n",
      "Mean chi^2 = 1.85\n",
      "Lambda GC = 1.627\n",
      "Max chi^2 = 106.943\n",
      "5297 Genome-wide significant SNPs (some may have been removed by filtering).\n",
      "\n",
      "Conversion finished at Wed Oct 18 18:12:58 2017\n",
      "Total time elapsed: 34.62s\n",
      "<><><<>><><><><><><><><><><><><><><><><><><><><><><><><><><><><><><><><><><>\n",
      "Munging of Trait 1 complete. SNPs remaining:\t 3712702\n",
      "<><><<>><><><><><><><><><><><><><><><><><><><><><><><><><><><><><><><><><><>\n",
      "\n",
      "Read in Trait 2 summary statistics (1191004 SNPs) from ../data/EducAtt_ukb.txt ...\n",
      "<><><<>><><><><><><><><><><><><><><><><><><><><><><><><><><><><><><><><><><>\n",
      "Munging Trait 2  <><><<>><><><><><><><><><><><><><><><><><><><><><><><><><><\n",
      "<><><<>><><><><><><><><><><><><><><><><><><><><><><><><><><><><><><><><><><>\n",
      "Interpreting column names as follows:\n",
      "snpid:\tVariant ID (e.g., rs number)\n",
      "n:\tSample size\n",
      "a1:\tAllele 1, interpreted as ref allele for signed sumstat.\n",
      "pval:\tp-Value\n",
      "a2:\tAllele 2, interpreted as non-ref allele for signed sumstat.\n",
      "freq:\tAllele frequency\n",
      "z:\tDirectional summary statistic as specified by --signed-sumstats.\n",
      "\n",
      "Reading sumstats from provided DataFrame into memory 10000000 SNPs at a time.\n",
      ". done\n",
      "Read 1191004 SNPs from --sumstats file.\n",
      "Removed 0 SNPs with missing values.\n",
      "Removed 0 SNPs with INFO <= None.\n",
      "Removed 12960 SNPs with MAF <= 0.01.\n",
      "Removed 0 SNPs with out-of-bounds p-values.\n",
      "Removed 0 variants that were not SNPs. Note: strand ambiguous SNPs were not dropped.\n",
      "1178044 SNPs remain.\n",
      "Removed 0 SNPs with duplicated rs numbers (1178044 SNPs remain).\n",
      "Removed 0 SNPs with N < 35242.0 (1178044 SNPs remain).\n",
      "Median value of SIGNED_SUMSTATS was -0.000292861940766, which seems sensible.\n",
      "Dropping snps with null values\n",
      "\n",
      "Metadata:\n",
      "Mean chi^2 = 1.205\n",
      "Lambda GC = 1.192\n",
      "Max chi^2 = 39.518\n",
      "23 Genome-wide significant SNPs (some may have been removed by filtering).\n",
      "\n",
      "Conversion finished at Wed Oct 18 18:13:23 2017\n",
      "Total time elapsed: 5.41s\n",
      "<><><<>><><><><><><><><><><><><><><><><><><><><><><><><><><><><><><><><><><>\n",
      "Munging of Trait 2 complete. SNPs remaining:\t 1178044\n",
      "<><><<>><><><><><><><><><><><><><><><><><><><><><><><><><><><><><><><><><><>\n",
      "\n",
      "Trait 2 summary statistics: \t 790847 SNPs remaining merging with previous traits.\n",
      "Dropped 1 SNPs due to inconsistent allele pairs from phenotype 2. 790846 SNPs remain.\n",
      "Flipped the signs of of 384828 SNPs to make them consistent with the effect allele orderings of the first trait.\n",
      "... Merge of GWAS summary statistics complete. Number of SNPs:\t 790846\n",
      "Using 790846 SNPs to estimate Omega (0 SNPs excluded due to strand ambiguity)\n",
      "Estimating sigma..\n",
      "Checking for positive definiteness ..\n",
      "Sigma hat:\n",
      "[[ 0.92   0.385]\n",
      " [ 0.385  1.028]]\n",
      "Beginning estimation of Omega ...\n",
      "Using GMM estimator of Omega ..\n",
      "Checking for positive definiteness ..\n",
      "Completed estimation of Omega ...\n",
      "Beginning MTAG calculations...\n",
      " ... Completed MTAG calculations.\n",
      "Writing Phenotype 1 to file ...\n",
      "Writing Phenotype 2 to file ...\n",
      "\n",
      "Summary of MTAG results:\n",
      "------------------------\n",
      "  Trait                 N (max)  N (mean)  # SNPs used  GWAS mean chi^2  MTAG mean chi^2  GWAS equiv. (max) N\n",
      "1  .../EducAtt_ea2.txt  250000   134825    790846       2.011            2.022            252546             \n",
      "2  .../EducAtt_ukb.txt   52863    52863    790846       1.204            1.841            217709             \n",
      "\n",
      "Estimated Omega:\n",
      "[[  6.492e-06   4.815e-06]\n",
      " [  4.815e-06   3.970e-06]]\n",
      "\n",
      "Estimated Sigma:\n",
      "[[ 0.92   0.385]\n",
      " [ 0.385  1.028]]\n",
      "\n",
      " \n",
      "MTAG results saved to file.\n",
      "MTAG complete. Time elapsed: 2.0m:58.9194750786s\n"
     ]
    }
   ],
   "source": [
    "!python ../mtag/mtag.py  \\\n",
    "    --sumstats ../data/EducAtt_ea2.txt,../data/EducAtt_ukb.txt  \\\n",
    "    --out ../output/2_special_opts/2.0_mtag_EA \\\n",
    "    --stream_stdout"
   ]
  },
  {
   "cell_type": "code",
   "execution_count": 15,
   "metadata": {
    "collapsed": false,
    "slideshow": {
     "slide_type": "subslide"
    }
   },
   "outputs": [
    {
     "name": "stdout",
     "output_type": "stream",
     "text": [
      "2017/10/18/06:14:31 PM Beginning estimation of Omega ...\r\n",
      "2017/10/18/06:14:31 PM Using GMM estimator of Omega ..\r\n",
      "2017/10/18/06:14:31 PM Checking for positive definiteness ..\r\n",
      "2017/10/18/06:14:31 PM Completed estimation of Omega ...\r\n",
      "2017/10/18/06:14:31 PM Beginning MTAG calculations...\r\n",
      "2017/10/18/06:14:32 PM  ... Completed MTAG calculations.\r\n",
      "2017/10/18/06:14:32 PM Writing Phenotype 1 to file ...\r\n",
      "2017/10/18/06:14:49 PM Writing Phenotype 2 to file ...\r\n",
      "2017/10/18/06:15:07 PM \r\n",
      "Summary of MTAG results:\r\n",
      "------------------------\r\n",
      "  Trait                 N (max)  N (mean)  # SNPs used  GWAS mean chi^2  MTAG mean chi^2  GWAS equiv. (max) N\r\n",
      "1  .../EducAtt_ea2.txt  250000   134825    790846       2.011            2.022            252546             \r\n",
      "2  .../EducAtt_ukb.txt   52863    52863    790846       1.204            1.841            217709             \r\n",
      "\r\n",
      "Estimated Omega:\r\n",
      "[[  6.492e-06   4.815e-06]\r\n",
      " [  4.815e-06   3.970e-06]]\r\n",
      "\r\n",
      "Estimated Sigma:\r\n",
      "[[ 0.92   0.385]\r\n",
      " [ 0.385  1.028]]\r\n",
      "\r\n",
      "2017/10/18/06:15:07 PM  \r\n",
      "2017/10/18/06:15:07 PM MTAG results saved to file.\r\n",
      "2017/10/18/06:15:07 PM MTAG complete. Time elapsed: 2.0m:58.9194750786s\r\n"
     ]
    }
   ],
   "source": [
    "!tail -26 ../output/2_special_opts/2.0_mtag_EA.log"
   ]
  },
  {
   "cell_type": "markdown",
   "metadata": {
    "slideshow": {
     "slide_type": "subslide"
    }
   },
   "source": [
    "### `--no_overlap`:  MTAG in the absence of sample overlap"
   ]
  },
  {
   "cell_type": "markdown",
   "metadata": {
    "slideshow": {
     "slide_type": "fragment"
    }
   },
   "source": [
    "#### Assumes: no overlap between any of the cohorts in any pair of GWAS sumstats\n"
   ]
  },
  {
   "cell_type": "markdown",
   "metadata": {
    "slideshow": {
     "slide_type": "fragment"
    }
   },
   "source": [
    "#### Action: Sets the diagonal elements of $\\Sigma_{LD}$ to 0. \n"
   ]
  },
  {
   "cell_type": "markdown",
   "metadata": {
    "slideshow": {
     "slide_type": "fragment"
    }
   },
   "source": [
    "#### Potential usefulness: In updates to `ldsc`, will speed up estimation."
   ]
  },
  {
   "cell_type": "markdown",
   "metadata": {
    "slideshow": {
     "slide_type": "subslide"
    }
   },
   "source": [
    "### `bash 2.1_mtag_no_overlap.bash`"
   ]
  },
  {
   "cell_type": "code",
   "execution_count": 16,
   "metadata": {
    "collapsed": false,
    "slideshow": {
     "slide_type": "fragment"
    }
   },
   "outputs": [
    {
     "name": "stdout",
     "output_type": "stream",
     "text": [
      "\n",
      "<><><<>><><><><><><><><><><><><><><><><><><><><><><><><><><><><><><><><><><>\n",
      "<>\n",
      "<> MTAG: Multitrait Analysis of GWAS \n",
      "<> Version: 1.0.2\n",
      "<> (C) 2017 Omeed Maghzian, Raymond Walters, and Patrick Turley\n",
      "<> Harvard University Department of Economics / Broad Institute of MIT and Harvard\n",
      "<> GNU General Public License v3\n",
      "<><><<>><><><><><><><><><><><><><><><><><><><><><><><><><><><><><><><><><><>\n",
      "<> Note:  It is recommended to run your own QC on the input before using this program. \n",
      "<> Software-related correspondence: maghzian@nber.org \n",
      "<> All other correspondence: paturley@broadinstitute.org \n",
      "<><><<>><><><><><><><><><><><><><><><><><><><><><><><><><><><><><><><><><><>\n",
      "\n",
      "\n",
      "Calling ./mtag.py \\\n",
      "--stream-stdout  \\\n",
      "--no-overlap  \\\n",
      "--sumstats ../data/EducAtt_ea2.txt,../data/EducAtt_ukb.txt \\\n",
      "--out ../output/2_special_opts/2.1_mtag_no_overlap_EA \n",
      "\n",
      "Beginning MTAG analysis...\n",
      "Read in Trait 1 summary statistics (8146840 SNPs) from ../data/EducAtt_ea2.txt ...\n",
      "<><><<>><><><><><><><><><><><><><><><><><><><><><><><><><><><><><><><><><><>\n",
      "Munging Trait 1  <><><<>><><><><><><><><><><><><><><><><><><><><><><><><><><\n",
      "<><><<>><><><><><><><><><><><><><><><><><><><><><><><><><><><><><><><><><><>\n",
      "Interpreting column names as follows:\n",
      "snpid:\tVariant ID (e.g., rs number)\n",
      "n:\tSample size\n",
      "a1:\tAllele 1, interpreted as ref allele for signed sumstat.\n",
      "pval:\tp-Value\n",
      "a2:\tAllele 2, interpreted as non-ref allele for signed sumstat.\n",
      "freq:\tAllele frequency\n",
      "z:\tDirectional summary statistic as specified by --signed-sumstats.\n",
      "\n",
      "Reading sumstats from provided DataFrame into memory 10000000 SNPs at a time.\n",
      ". done\n",
      "Read 8146840 SNPs from --sumstats file.\n",
      "Removed 0 SNPs with missing values.\n",
      "Removed 0 SNPs with INFO <= None.\n",
      "Removed 0 SNPs with MAF <= 0.01.\n",
      "Removed 0 SNPs with out-of-bounds p-values.\n",
      "Removed 0 variants that were not SNPs. Note: strand ambiguous SNPs were not dropped.\n",
      "8146840 SNPs remain.\n",
      "Removed 0 SNPs with duplicated rs numbers (8146840 SNPs remain).\n",
      "Removed 4434138 SNPs with N < 74074.074074 (3712702 SNPs remain).\n",
      "Median value of SIGNED_SUMSTATS was 0.0, which seems sensible.\n",
      "Dropping snps with null values\n",
      "\n",
      "Metadata:\n",
      "Mean chi^2 = 1.85\n",
      "Lambda GC = 1.627\n",
      "Max chi^2 = 106.943\n",
      "5297 Genome-wide significant SNPs (some may have been removed by filtering).\n",
      "\n",
      "Conversion finished at Wed Oct 18 18:06:09 2017\n",
      "Total time elapsed: 38.55s\n",
      "<><><<>><><><><><><><><><><><><><><><><><><><><><><><><><><><><><><><><><><>\n",
      "Munging of Trait 1 complete. SNPs remaining:\t 3712702\n",
      "<><><<>><><><><><><><><><><><><><><><><><><><><><><><><><><><><><><><><><><>\n",
      "\n",
      "Read in Trait 2 summary statistics (1191004 SNPs) from ../data/EducAtt_ukb.txt ...\n",
      "<><><<>><><><><><><><><><><><><><><><><><><><><><><><><><><><><><><><><><><>\n",
      "Munging Trait 2  <><><<>><><><><><><><><><><><><><><><><><><><><><><><><><><\n",
      "<><><<>><><><><><><><><><><><><><><><><><><><><><><><><><><><><><><><><><><>\n",
      "Interpreting column names as follows:\n",
      "snpid:\tVariant ID (e.g., rs number)\n",
      "n:\tSample size\n",
      "a1:\tAllele 1, interpreted as ref allele for signed sumstat.\n",
      "pval:\tp-Value\n",
      "a2:\tAllele 2, interpreted as non-ref allele for signed sumstat.\n",
      "freq:\tAllele frequency\n",
      "z:\tDirectional summary statistic as specified by --signed-sumstats.\n",
      "\n",
      "Reading sumstats from provided DataFrame into memory 10000000 SNPs at a time.\n",
      ". done\n",
      "Read 1191004 SNPs from --sumstats file.\n",
      "Removed 0 SNPs with missing values.\n",
      "Removed 0 SNPs with INFO <= None.\n",
      "Removed 12960 SNPs with MAF <= 0.01.\n",
      "Removed 0 SNPs with out-of-bounds p-values.\n",
      "Removed 0 variants that were not SNPs. Note: strand ambiguous SNPs were not dropped.\n",
      "1178044 SNPs remain.\n",
      "Removed 0 SNPs with duplicated rs numbers (1178044 SNPs remain).\n",
      "Removed 0 SNPs with N < 35242.0 (1178044 SNPs remain).\n",
      "Median value of SIGNED_SUMSTATS was -0.000292861940766, which seems sensible.\n",
      "Dropping snps with null values\n",
      "\n",
      "Metadata:\n",
      "Mean chi^2 = 1.205\n",
      "Lambda GC = 1.192\n",
      "Max chi^2 = 39.518\n",
      "23 Genome-wide significant SNPs (some may have been removed by filtering).\n",
      "\n",
      "Conversion finished at Wed Oct 18 18:06:37 2017\n",
      "Total time elapsed: 5.74s\n",
      "<><><<>><><><><><><><><><><><><><><><><><><><><><><><><><><><><><><><><><><>\n",
      "Munging of Trait 2 complete. SNPs remaining:\t 1178044\n",
      "<><><<>><><><><><><><><><><><><><><><><><><><><><><><><><><><><><><><><><><>\n",
      "\n",
      "Trait 2 summary statistics: \t 790847 SNPs remaining merging with previous traits.\n",
      "Dropped 1 SNPs due to inconsistent allele pairs from phenotype 2. 790846 SNPs remain.\n",
      "Flipped the signs of of 384828 SNPs to make them consistent with the effect allele orderings of the first trait.\n",
      "... Merge of GWAS summary statistics complete. Number of SNPs:\t 790846\n",
      "Using 790846 SNPs to estimate Omega (0 SNPs excluded due to strand ambiguity)\n",
      "Estimating sigma..\n",
      "Checking for positive definiteness ..\n",
      "Sigma hat:\n",
      "[[ 0.92   0.   ]\n",
      " [ 0.     1.028]]\n",
      "Beginning estimation of Omega ...\n",
      "Using GMM estimator of Omega ..\n",
      "Checking for positive definiteness ..\n",
      "matrix is not positive definite, performing adjustment..\n",
      "Completed in 0 iterations\n",
      "Completed estimation of Omega ...\n",
      "Beginning MTAG calculations...\n",
      " ... Completed MTAG calculations.\n",
      "Writing Phenotype 1 to file ...\n",
      "Writing Phenotype 2 to file ...\n",
      "\n",
      "Summary of MTAG results:\n",
      "------------------------\n",
      "  Trait                 N (max)  N (mean)  # SNPs used  GWAS mean chi^2  MTAG mean chi^2  GWAS equiv. (max) N\n",
      "1  .../EducAtt_ea2.txt  250000   134825    790846       2.011            2.501            371136             \n",
      "2  .../EducAtt_ukb.txt   52863    52863    790846       1.204            2.468            380236             \n",
      "\n",
      "Estimated Omega:\n",
      "[[  6.492e-06   5.026e-06]\n",
      " [  5.026e-06   3.970e-06]]\n",
      "\n",
      "Estimated Sigma:\n",
      "[[ 0.92   0.   ]\n",
      " [ 0.     1.028]]\n",
      "\n",
      " \n",
      "MTAG results saved to file.\n",
      "MTAG complete. Time elapsed: 3.0m:1.71074914932s\n"
     ]
    }
   ],
   "source": [
    "!python ../mtag/mtag.py  \\\n",
    "    --sumstats ../data/EducAtt_ea2.txt,../data/EducAtt_ukb.txt  \\\n",
    "    --out ../output/2_special_opts/2.1_mtag_no_overlap_EA \\\n",
    "    --no_overlap \\\n",
    "    --stream_stdout"
   ]
  },
  {
   "cell_type": "code",
   "execution_count": 16,
   "metadata": {
    "collapsed": false,
    "slideshow": {
     "slide_type": "subslide"
    }
   },
   "outputs": [
    {
     "name": "stdout",
     "output_type": "stream",
     "text": [
      "2017/10/18/06:07:40 PM Checking for positive definiteness ..\r\n",
      "2017/10/18/06:07:40 PM matrix is not positive definite, performing adjustment..\r\n",
      "2017/10/18/06:07:40 PM Completed in 0 iterations\r\n",
      "2017/10/18/06:07:40 PM Completed estimation of Omega ...\r\n",
      "2017/10/18/06:07:40 PM Beginning MTAG calculations...\r\n",
      "2017/10/18/06:07:41 PM  ... Completed MTAG calculations.\r\n",
      "2017/10/18/06:07:41 PM Writing Phenotype 1 to file ...\r\n",
      "2017/10/18/06:07:58 PM Writing Phenotype 2 to file ...\r\n",
      "2017/10/18/06:08:15 PM \r\n",
      "Summary of MTAG results:\r\n",
      "------------------------\r\n",
      "  Trait                 N (max)  N (mean)  # SNPs used  GWAS mean chi^2  MTAG mean chi^2  GWAS equiv. (max) N\r\n",
      "1  .../EducAtt_ea2.txt  250000   134825    790846       2.011            2.501            371136             \r\n",
      "2  .../EducAtt_ukb.txt   52863    52863    790846       1.204            2.468            380236             \r\n",
      "\r\n",
      "Estimated Omega:\r\n",
      "[[  6.492e-06   5.026e-06]\r\n",
      " [  5.026e-06   3.970e-06]]\r\n",
      "\r\n",
      "Estimated Sigma:\r\n",
      "[[ 0.92   0.   ]\r\n",
      " [ 0.     1.028]]\r\n",
      "\r\n",
      "2017/10/18/06:08:15 PM  \r\n",
      "2017/10/18/06:08:15 PM MTAG results saved to file.\r\n",
      "2017/10/18/06:08:15 PM MTAG complete. Time elapsed: 3.0m:1.71074914932s\r\n"
     ]
    }
   ],
   "source": [
    "!tail -26 ../output/2_special_opts/2.1_mtag_no_overLap_EA.log "
   ]
  },
  {
   "cell_type": "markdown",
   "metadata": {
    "slideshow": {
     "slide_type": "subslide"
    }
   },
   "source": [
    "### `--perfect_gencov`: Different measures of the same trait"
   ]
  },
  {
   "cell_type": "markdown",
   "metadata": {
    "slideshow": {
     "slide_type": "fragment"
    }
   },
   "source": [
    "#### Assumes: All summary statistics in MTAG are GWAS estimates for traits perfectly correlated with another."
   ]
  },
  {
   "cell_type": "markdown",
   "metadata": {
    "slideshow": {
     "slide_type": "fragment"
    }
   },
   "source": [
    "#### Action: $\\Omega$ is equal to outer product of the square root of the vector of genetic variances.\n",
    "* This pins the genetic *correlations* to be 1."
   ]
  },
  {
   "cell_type": "markdown",
   "metadata": {
    "slideshow": {
     "slide_type": "fragment"
    }
   },
   "source": [
    "\n",
    "#### Potential usefulness: MTAG on GWAS of different measures of the same trait. \n"
   ]
  },
  {
   "cell_type": "markdown",
   "metadata": {
    "slideshow": {
     "slide_type": "fragment"
    }
   },
   "source": [
    "##### Note: It is sometimes the case that different measures of the same trait are in fact not perfectly correlated (see Meghan Zacher's talk later today).\n"
   ]
  },
  {
   "cell_type": "markdown",
   "metadata": {
    "collapsed": true,
    "slideshow": {
     "slide_type": "subslide"
    }
   },
   "source": [
    "### `bash 2.2_perfect_gencov.bash`"
   ]
  },
  {
   "cell_type": "code",
   "execution_count": 20,
   "metadata": {
    "collapsed": false,
    "slideshow": {
     "slide_type": "fragment"
    }
   },
   "outputs": [
    {
     "name": "stdout",
     "output_type": "stream",
     "text": [
      "\n",
      "<><><<>><><><><><><><><><><><><><><><><><><><><><><><><><><><><><><><><><><>\n",
      "<>\n",
      "<> MTAG: Multitrait Analysis of GWAS \n",
      "<> Version: 1.0.3\n",
      "<> (C) 2017 Omeed Maghzian, Raymond Walters, and Patrick Turley\n",
      "<> Harvard University Department of Economics / Broad Institute of MIT and Harvard\n",
      "<> GNU General Public License v3\n",
      "<><><<>><><><><><><><><><><><><><><><><><><><><><><><><><><><><><><><><><><>\n",
      "<> Note:  It is recommended to run your own QC on the input before using this program. \n",
      "<> Software-related correspondence: maghzian@nber.org \n",
      "<> All other correspondence: paturley@broadinstitute.org \n",
      "<><><<>><><><><><><><><><><><><><><><><><><><><><><><><><><><><><><><><><><>\n",
      "\n",
      "\n",
      "Calling ./mtag.py \\\n",
      "--stream-stdout  \\\n",
      "--perfect-gencov  \\\n",
      "--sumstats ../data/EducAtt_ea2.txt,../data/EducAtt_ukb.txt \\\n",
      "--out ../output/2_special_opts/2.2_mtag_perf_gencov_EA \n",
      "\n",
      "Beginning MTAG analysis...\n",
      "Read in Trait 1 summary statistics (8146840 SNPs) from ../data/EducAtt_ea2.txt ...\n",
      "<><><<>><><><><><><><><><><><><><><><><><><><><><><><><><><><><><><><><><><>\n",
      "Munging Trait 1  <><><<>><><><><><><><><><><><><><><><><><><><><><><><><><><\n",
      "<><><<>><><><><><><><><><><><><><><><><><><><><><><><><><><><><><><><><><><>\n",
      "Interpreting column names as follows:\n",
      "snpid:\tVariant ID (e.g., rs number)\n",
      "n:\tSample size\n",
      "a1:\tAllele 1, interpreted as ref allele for signed sumstat.\n",
      "pval:\tp-Value\n",
      "a2:\tAllele 2, interpreted as non-ref allele for signed sumstat.\n",
      "freq:\tAllele frequency\n",
      "z:\tDirectional summary statistic as specified by --signed-sumstats.\n",
      "\n",
      "Reading sumstats from provided DataFrame into memory 10000000 SNPs at a time.\n",
      ". done\n",
      "Read 8146840 SNPs from --sumstats file.\n",
      "Removed 0 SNPs with missing values.\n",
      "Removed 0 SNPs with INFO <= None.\n",
      "Removed 0 SNPs with MAF <= 0.01.\n",
      "Removed 0 SNPs with out-of-bounds p-values.\n",
      "Removed 0 variants that were not SNPs. Note: strand ambiguous SNPs were not dropped.\n",
      "8146840 SNPs remain.\n",
      "Removed 0 SNPs with duplicated rs numbers (8146840 SNPs remain).\n",
      "Removed 4434138 SNPs with N < 74074.074074 (3712702 SNPs remain).\n",
      "Median value of SIGNED_SUMSTATS was 0.0, which seems sensible.\n",
      "Dropping snps with null values\n",
      "\n",
      "Metadata:\n",
      "Mean chi^2 = 1.85\n",
      "Lambda GC = 1.627\n",
      "Max chi^2 = 106.943\n",
      "5297 Genome-wide significant SNPs (some may have been removed by filtering).\n",
      "\n",
      "Conversion finished at Wed Oct 18 18:18:25 2017\n",
      "Total time elapsed: 39.93s\n",
      "<><><<>><><><><><><><><><><><><><><><><><><><><><><><><><><><><><><><><><><>\n",
      "Munging of Trait 1 complete. SNPs remaining:\t 3712702\n",
      "<><><<>><><><><><><><><><><><><><><><><><><><><><><><><><><><><><><><><><><>\n",
      "\n",
      "Read in Trait 2 summary statistics (1191004 SNPs) from ../data/EducAtt_ukb.txt ...\n",
      "<><><<>><><><><><><><><><><><><><><><><><><><><><><><><><><><><><><><><><><>\n",
      "Munging Trait 2  <><><<>><><><><><><><><><><><><><><><><><><><><><><><><><><\n",
      "<><><<>><><><><><><><><><><><><><><><><><><><><><><><><><><><><><><><><><><>\n",
      "Interpreting column names as follows:\n",
      "snpid:\tVariant ID (e.g., rs number)\n",
      "n:\tSample size\n",
      "a1:\tAllele 1, interpreted as ref allele for signed sumstat.\n",
      "pval:\tp-Value\n",
      "a2:\tAllele 2, interpreted as non-ref allele for signed sumstat.\n",
      "freq:\tAllele frequency\n",
      "z:\tDirectional summary statistic as specified by --signed-sumstats.\n",
      "\n",
      "Reading sumstats from provided DataFrame into memory 10000000 SNPs at a time.\n",
      ". done\n",
      "Read 1191004 SNPs from --sumstats file.\n",
      "Removed 0 SNPs with missing values.\n",
      "Removed 0 SNPs with INFO <= None.\n",
      "Removed 12960 SNPs with MAF <= 0.01.\n",
      "Removed 0 SNPs with out-of-bounds p-values.\n",
      "Removed 0 variants that were not SNPs. Note: strand ambiguous SNPs were not dropped.\n",
      "1178044 SNPs remain.\n",
      "Removed 0 SNPs with duplicated rs numbers (1178044 SNPs remain).\n",
      "Removed 0 SNPs with N < 35242.0 (1178044 SNPs remain).\n",
      "Median value of SIGNED_SUMSTATS was -0.000292861940766, which seems sensible.\n",
      "Dropping snps with null values\n",
      "\n",
      "Metadata:\n",
      "Mean chi^2 = 1.205\n",
      "Lambda GC = 1.192\n",
      "Max chi^2 = 39.518\n",
      "23 Genome-wide significant SNPs (some may have been removed by filtering).\n",
      "\n",
      "Conversion finished at Wed Oct 18 18:18:52 2017\n",
      "Total time elapsed: 5.76s\n",
      "<><><<>><><><><><><><><><><><><><><><><><><><><><><><><><><><><><><><><><><>\n",
      "Munging of Trait 2 complete. SNPs remaining:\t 1178044\n",
      "<><><<>><><><><><><><><><><><><><><><><><><><><><><><><><><><><><><><><><><>\n",
      "\n",
      "Trait 2 summary statistics: \t 790847 SNPs remaining merging with previous traits.\n",
      "Dropped 1 SNPs due to inconsistent allele pairs from phenotype 2. 790846 SNPs remain.\n",
      "Flipped the signs of of 384828 SNPs to make them consistent with the effect allele orderings of the first trait.\n",
      "... Merge of GWAS summary statistics complete. Number of SNPs:\t 790846\n",
      "Using 790846 SNPs to estimate Omega (0 SNPs excluded due to strand ambiguity)\n",
      "Estimating sigma..\n",
      "Checking for positive definiteness ..\n",
      "Sigma hat:\n",
      "[[ 0.92   0.385]\n",
      " [ 0.385  1.028]]\n",
      "Beginning estimation of Omega ...\n",
      "Using GMM estimator of Omega ..\n",
      "Checking for positive definiteness ..\n",
      "Completed estimation of Omega ...\n",
      "Beginning MTAG calculations...\n",
      " ... Completed MTAG calculations.\n",
      "Writing Phenotype 1 to file ...\n",
      "Writing Phenotype 2 to file ...\n",
      "\n",
      "Summary of MTAG results:\n",
      "------------------------\n",
      "  Trait                 N (max)  N (mean)  # SNPs used  GWAS mean chi^2  MTAG mean chi^2  GWAS equiv. (max) N\n",
      "1  .../EducAtt_ea2.txt  250000   134825    790846       2.011            2.022            252528             \n",
      "2  .../EducAtt_ukb.txt   52863    52863    790846       1.204            2.022            264572             \n",
      "\n",
      "Estimated Omega:\n",
      "[[  6.492e-06   5.077e-06]\n",
      " [  5.077e-06   3.970e-06]]\n",
      "\n",
      "Estimated Sigma:\n",
      "[[ 0.92   0.385]\n",
      " [ 0.385  1.028]]\n",
      "\n",
      " \n",
      "MTAG results saved to file.\n",
      "MTAG complete. Time elapsed: 3.0m:0.128737211227s\n"
     ]
    }
   ],
   "source": [
    "# 2.2_perfect_gencov.bash\n",
    "!python ../mtag/mtag.py \\\n",
    "    --sumstats ../data/EducAtt_ea2.txt,../data/EducAtt_ukb.txt \\\n",
    "    --out ../output/2_special_opts/2.2_mtag_perf_gencov_EA \\\n",
    "    --perfect_gencov \\\n",
    "    --stream_stdout\n"
   ]
  },
  {
   "cell_type": "code",
   "execution_count": 17,
   "metadata": {
    "collapsed": false,
    "slideshow": {
     "slide_type": "subslide"
    }
   },
   "outputs": [
    {
     "name": "stdout",
     "output_type": "stream",
     "text": [
      "2017/10/18/06:19:54 PM Beginning estimation of Omega ...\r\n",
      "2017/10/18/06:19:54 PM Using GMM estimator of Omega ..\r\n",
      "2017/10/18/06:19:54 PM Checking for positive definiteness ..\r\n",
      "2017/10/18/06:19:54 PM Completed estimation of Omega ...\r\n",
      "2017/10/18/06:19:54 PM Beginning MTAG calculations...\r\n",
      "2017/10/18/06:19:56 PM  ... Completed MTAG calculations.\r\n",
      "2017/10/18/06:19:56 PM Writing Phenotype 1 to file ...\r\n",
      "2017/10/18/06:20:12 PM Writing Phenotype 2 to file ...\r\n",
      "2017/10/18/06:20:28 PM \r\n",
      "Summary of MTAG results:\r\n",
      "------------------------\r\n",
      "  Trait                 N (max)  N (mean)  # SNPs used  GWAS mean chi^2  MTAG mean chi^2  GWAS equiv. (max) N\r\n",
      "1  .../EducAtt_ea2.txt  250000   134825    790846       2.011            2.022            252528             \r\n",
      "2  .../EducAtt_ukb.txt   52863    52863    790846       1.204            2.022            264572             \r\n",
      "\r\n",
      "Estimated Omega:\r\n",
      "[[  6.492e-06   5.077e-06]\r\n",
      " [  5.077e-06   3.970e-06]]\r\n",
      "\r\n",
      "Estimated Sigma:\r\n",
      "[[ 0.92   0.385]\r\n",
      " [ 0.385  1.028]]\r\n",
      "\r\n",
      "2017/10/18/06:20:28 PM  \r\n",
      "2017/10/18/06:20:28 PM MTAG results saved to file.\r\n",
      "2017/10/18/06:20:28 PM MTAG complete. Time elapsed: 3.0m:0.128737211227s\r\n"
     ]
    }
   ],
   "source": [
    "!tail -26 ../output/2_special_opts/2.2_mtag_perf_gencov_EA.log"
   ]
  },
  {
   "cell_type": "markdown",
   "metadata": {
    "slideshow": {
     "slide_type": "subslide"
    }
   },
   "source": [
    "#### Compare:\n"
   ]
  },
  {
   "cell_type": "markdown",
   "metadata": {
    "slideshow": {
     "slide_type": "fragment"
    }
   },
   "source": [
    "Analysis | $\\Omega$ | Genetic correlation\n",
    "---------|-----|----\n",
    "Regular | ```[6.492e-06   4.815e-06]      [4.815e-06   3.970e-06]```| ```[1.000  0.949]   [0.949  1.000]```\n",
    "No overlap | ```[6.492e-06   5.026e-06]      [5.026e-06   3.970e-06]``` | ```[1.000  0.990]        [0.990  1.000] ```\n",
    "Perfect genetic correlation |   ```[6.492e-06   5.077e-06]       [5.077e-06   3.970e-06]```| ```[1.000  1.000]    [1.000  1.000]```\n"
   ]
  },
  {
   "cell_type": "markdown",
   "metadata": {
    "slideshow": {
     "slide_type": "subslide"
    }
   },
   "source": [
    "### `--equal_h2`: Performing meta-analysis with mtag"
   ]
  },
  {
   "cell_type": "markdown",
   "metadata": {
    "slideshow": {
     "slide_type": "fragment"
    }
   },
   "source": [
    "#### Assumes: variation between traits is only due to non-genetic factors.\n",
    "##### Also requires: `--perfect_gencov`\n"
   ]
  },
  {
   "cell_type": "markdown",
   "metadata": {
    "slideshow": {
     "slide_type": "fragment"
    }
   },
   "source": [
    "#### Action: Skips calculation Omega, uses simplified MTAG estimator\n"
   ]
  },
  {
   "cell_type": "markdown",
   "metadata": {
    "slideshow": {
     "slide_type": "fragment"
    }
   },
   "source": [
    "\n",
    "#### Potential usefulness: All summary statistics files in MTAG have the same heritability as they are considered to be results on the same measure of a single trait. \n",
    "#### In other words: *Inverse-variance meta-analysis that can handle sample overlap.*"
   ]
  },
  {
   "cell_type": "markdown",
   "metadata": {
    "slideshow": {
     "slide_type": "subslide"
    }
   },
   "source": [
    "### `bash 2.3_mtag_equal_h2.bash`"
   ]
  },
  {
   "cell_type": "code",
   "execution_count": 21,
   "metadata": {
    "collapsed": false,
    "slideshow": {
     "slide_type": "fragment"
    }
   },
   "outputs": [
    {
     "name": "stdout",
     "output_type": "stream",
     "text": [
      "\n",
      "<><><<>><><><><><><><><><><><><><><><><><><><><><><><><><><><><><><><><><><>\n",
      "<>\n",
      "<> MTAG: Multitrait Analysis of GWAS \n",
      "<> Version: 1.0.3\n",
      "<> (C) 2017 Omeed Maghzian, Raymond Walters, and Patrick Turley\n",
      "<> Harvard University Department of Economics / Broad Institute of MIT and Harvard\n",
      "<> GNU General Public License v3\n",
      "<><><<>><><><><><><><><><><><><><><><><><><><><><><><><><><><><><><><><><><>\n",
      "<> Note:  It is recommended to run your own QC on the input before using this program. \n",
      "<> Software-related correspondence: maghzian@nber.org \n",
      "<> All other correspondence: paturley@broadinstitute.org \n",
      "<><><<>><><><><><><><><><><><><><><><><><><><><><><><><><><><><><><><><><><>\n",
      "\n",
      "\n",
      "Calling ./mtag.py \\\n",
      "--equal-h2  \\\n",
      "--stream-stdout  \\\n",
      "--perfect-gencov  \\\n",
      "--sumstats ../data/EducAtt_ea2.txt,../data/EducAtt_ukb.txt \\\n",
      "--out ../output/2_special_opts/2.3_mtag_perf_gencov_EA \n",
      "\n",
      "Beginning MTAG analysis...\n",
      "Read in Trait 1 summary statistics (8146840 SNPs) from ../data/EducAtt_ea2.txt ...\n",
      "<><><<>><><><><><><><><><><><><><><><><><><><><><><><><><><><><><><><><><><>\n",
      "Munging Trait 1  <><><<>><><><><><><><><><><><><><><><><><><><><><><><><><><\n",
      "<><><<>><><><><><><><><><><><><><><><><><><><><><><><><><><><><><><><><><><>\n",
      "Interpreting column names as follows:\n",
      "snpid:\tVariant ID (e.g., rs number)\n",
      "n:\tSample size\n",
      "a1:\tAllele 1, interpreted as ref allele for signed sumstat.\n",
      "pval:\tp-Value\n",
      "a2:\tAllele 2, interpreted as non-ref allele for signed sumstat.\n",
      "freq:\tAllele frequency\n",
      "z:\tDirectional summary statistic as specified by --signed-sumstats.\n",
      "\n",
      "Reading sumstats from provided DataFrame into memory 10000000 SNPs at a time.\n",
      ". done\n",
      "Read 8146840 SNPs from --sumstats file.\n",
      "Removed 0 SNPs with missing values.\n",
      "Removed 0 SNPs with INFO <= None.\n",
      "Removed 0 SNPs with MAF <= 0.01.\n",
      "Removed 0 SNPs with out-of-bounds p-values.\n",
      "Removed 0 variants that were not SNPs. Note: strand ambiguous SNPs were not dropped.\n",
      "8146840 SNPs remain.\n",
      "Removed 0 SNPs with duplicated rs numbers (8146840 SNPs remain).\n",
      "Removed 4434138 SNPs with N < 74074.074074 (3712702 SNPs remain).\n",
      "Median value of SIGNED_SUMSTATS was 0.0, which seems sensible.\n",
      "Dropping snps with null values\n",
      "\n",
      "Metadata:\n",
      "Mean chi^2 = 1.85\n",
      "Lambda GC = 1.627\n",
      "Max chi^2 = 106.943\n",
      "5297 Genome-wide significant SNPs (some may have been removed by filtering).\n",
      "\n",
      "Conversion finished at Wed Oct 18 18:39:18 2017\n",
      "Total time elapsed: 35.26s\n",
      "<><><<>><><><><><><><><><><><><><><><><><><><><><><><><><><><><><><><><><><>\n",
      "Munging of Trait 1 complete. SNPs remaining:\t 3712702\n",
      "<><><<>><><><><><><><><><><><><><><><><><><><><><><><><><><><><><><><><><><>\n",
      "\n",
      "Read in Trait 2 summary statistics (1191004 SNPs) from ../data/EducAtt_ukb.txt ...\n",
      "<><><<>><><><><><><><><><><><><><><><><><><><><><><><><><><><><><><><><><><>\n",
      "Munging Trait 2  <><><<>><><><><><><><><><><><><><><><><><><><><><><><><><><\n",
      "<><><<>><><><><><><><><><><><><><><><><><><><><><><><><><><><><><><><><><><>\n",
      "Interpreting column names as follows:\n",
      "snpid:\tVariant ID (e.g., rs number)\n",
      "n:\tSample size\n",
      "a1:\tAllele 1, interpreted as ref allele for signed sumstat.\n",
      "pval:\tp-Value\n",
      "a2:\tAllele 2, interpreted as non-ref allele for signed sumstat.\n",
      "freq:\tAllele frequency\n",
      "z:\tDirectional summary statistic as specified by --signed-sumstats.\n",
      "\n",
      "Reading sumstats from provided DataFrame into memory 10000000 SNPs at a time.\n",
      ". done\n",
      "Read 1191004 SNPs from --sumstats file.\n",
      "Removed 0 SNPs with missing values.\n",
      "Removed 0 SNPs with INFO <= None.\n",
      "Removed 12960 SNPs with MAF <= 0.01.\n",
      "Removed 0 SNPs with out-of-bounds p-values.\n",
      "Removed 0 variants that were not SNPs. Note: strand ambiguous SNPs were not dropped.\n",
      "1178044 SNPs remain.\n",
      "Removed 0 SNPs with duplicated rs numbers (1178044 SNPs remain).\n",
      "Removed 0 SNPs with N < 35242.0 (1178044 SNPs remain).\n",
      "Median value of SIGNED_SUMSTATS was -0.000292861940766, which seems sensible.\n",
      "Dropping snps with null values\n",
      "\n",
      "Metadata:\n",
      "Mean chi^2 = 1.205\n",
      "Lambda GC = 1.192\n",
      "Max chi^2 = 39.518\n",
      "23 Genome-wide significant SNPs (some may have been removed by filtering).\n",
      "\n",
      "Conversion finished at Wed Oct 18 18:39:47 2017\n",
      "Total time elapsed: 6.26s\n",
      "<><><<>><><><><><><><><><><><><><><><><><><><><><><><><><><><><><><><><><><>\n",
      "Munging of Trait 2 complete. SNPs remaining:\t 1178044\n",
      "<><><<>><><><><><><><><><><><><><><><><><><><><><><><><><><><><><><><><><><>\n",
      "\n",
      "Trait 2 summary statistics: \t 790847 SNPs remaining merging with previous traits.\n",
      "Dropped 1 SNPs due to inconsistent allele pairs from phenotype 2. 790846 SNPs remain.\n",
      "Flipped the signs of of 384828 SNPs to make them consistent with the effect allele orderings of the first trait.\n",
      "... Merge of GWAS summary statistics complete. Number of SNPs:\t 790846\n",
      "Using 790846 SNPs to estimate Omega (0 SNPs excluded due to strand ambiguity)\n",
      "Estimating sigma..\n",
      "Checking for positive definiteness ..\n",
      "Sigma hat:\n",
      "[[ 0.92   0.385]\n",
      " [ 0.385  1.028]]\n",
      "Beginning estimation of Omega ...\n",
      "--perfect_gencov and --equal_h2 option used\n",
      "Completed estimation of Omega ...\n",
      "Beginning MTAG calculations...\n",
      " ... Completed MTAG calculations.\n",
      "Writing Phenotype 1 to file ...\n",
      "Writing Phenotype 2 to file ...\n",
      "\n",
      "Summary of MTAG results:\n",
      "------------------------\n",
      "  Trait                 N (max)  N (mean)  # SNPs used  GWAS mean chi^2  MTAG mean chi^2  GWAS equiv. (max) N\n",
      "1  .../EducAtt_ea2.txt  250000   134825    790846       2.011            1.998            246761             \n",
      "2  .../EducAtt_ukb.txt   52863    52863    790846       1.204            1.998            258530             \n",
      "Omega hat not computed because --equal_h2 was used.\n",
      "\n",
      "Estimated Sigma:\n",
      "[[ 0.92   0.385]\n",
      " [ 0.385  1.028]]\n",
      "\n",
      " \n",
      "MTAG results saved to file.\n",
      "MTAG complete. Time elapsed: 3.0m:0.847772121429s\n"
     ]
    }
   ],
   "source": [
    "!python ../mtag/mtag.py  \\\n",
    "    --sumstats ../data/EducAtt_ea2.txt,../data/EducAtt_ukb.txt  \\\n",
    "    --out ../output/2_special_opts/2.3_mtag_perf_gencov_EA \\\n",
    "    --perfect_gencov \\\n",
    "    --equal_h2 \\\n",
    "    --stream_stdout\n"
   ]
  },
  {
   "cell_type": "code",
   "execution_count": 19,
   "metadata": {
    "collapsed": false,
    "slideshow": {
     "slide_type": "subslide"
    }
   },
   "outputs": [
    {
     "name": "stdout",
     "output_type": "stream",
     "text": [
      "2017/10/18/06:40:53 PM Checking for positive definiteness ..\r\n",
      "2017/10/18/06:40:53 PM Sigma hat:\r\n",
      "[[ 0.92   0.385]\r\n",
      " [ 0.385  1.028]]\r\n",
      "2017/10/18/06:40:53 PM Beginning estimation of Omega ...\r\n",
      "2017/10/18/06:40:53 PM --perfect_gencov and --equal_h2 option used\r\n",
      "2017/10/18/06:40:53 PM Completed estimation of Omega ...\r\n",
      "2017/10/18/06:40:53 PM Beginning MTAG calculations...\r\n",
      "2017/10/18/06:40:54 PM  ... Completed MTAG calculations.\r\n",
      "2017/10/18/06:40:54 PM Writing Phenotype 1 to file ...\r\n",
      "2017/10/18/06:41:10 PM Writing Phenotype 2 to file ...\r\n",
      "2017/10/18/06:41:27 PM \r\n",
      "Summary of MTAG results:\r\n",
      "------------------------\r\n",
      "  Trait                 N (max)  N (mean)  # SNPs used  GWAS mean chi^2  MTAG mean chi^2  GWAS equiv. (max) N\r\n",
      "1  .../EducAtt_ea2.txt  250000   134825    790846       2.011            1.998            246761             \r\n",
      "2  .../EducAtt_ukb.txt   52863    52863    790846       1.204            1.998            258530             \r\n",
      "Omega hat not computed because --equal_h2 was used.\r\n",
      "\r\n",
      "Estimated Sigma:\r\n",
      "[[ 0.92   0.385]\r\n",
      " [ 0.385  1.028]]\r\n",
      "\r\n",
      "2017/10/18/06:41:27 PM  \r\n",
      "2017/10/18/06:41:27 PM MTAG results saved to file.\r\n",
      "2017/10/18/06:41:27 PM MTAG complete. Time elapsed: 3.0m:0.847772121429s\r\n"
     ]
    }
   ],
   "source": [
    "!tail -26 ../output/2_special_opts/2.3_mtag_perf_gencov_EA.log"
   ]
  },
  {
   "cell_type": "markdown",
   "metadata": {
    "slideshow": {
     "slide_type": "slide"
    }
   },
   "source": [
    "## 3. maxFDR calculations "
   ]
  },
  {
   "cell_type": "markdown",
   "metadata": {
    "slideshow": {
     "slide_type": "subslide"
    }
   },
   "source": [
    "* `--fdr`: Calculates an approximate upper bound on the FDR based on the framework presented. \n",
    "\n",
    "\n",
    "\n",
    "\n"
   ]
  },
  {
   "cell_type": "markdown",
   "metadata": {
    "slideshow": {
     "slide_type": "fragment"
    }
   },
   "source": [
    "* Additional options for:\n",
    "    * Customized set of grid points to calculate FDR (`--grid_file`)\n",
    "    * Adjusting coarseness of grid (`--intervals`)\n",
    "    * Parallelization (`--cores`)\n",
    "    * Sample size approximation (`--n_approx`)\n",
    "    * Restrict grid points to that those that maintain the prior probability of a null SNP for each trait (in development)."
   ]
  },
  {
   "cell_type": "markdown",
   "metadata": {
    "slideshow": {
     "slide_type": "fragment"
    }
   },
   "source": [
    "* Default options calculate uses `--intervals 10` and a single core."
   ]
  },
  {
   "cell_type": "markdown",
   "metadata": {
    "slideshow": {
     "slide_type": "subslide"
    }
   },
   "source": [
    "### `3.1_max_FDR_basics.bash`"
   ]
  },
  {
   "cell_type": "code",
   "execution_count": 23,
   "metadata": {
    "collapsed": false,
    "slideshow": {
     "slide_type": "fragment"
    }
   },
   "outputs": [
    {
     "name": "stdout",
     "output_type": "stream",
     "text": [
      "\n",
      "<><><<>><><><><><><><><><><><><><><><><><><><><><><><><><><><><><><><><><><>\n",
      "<>\n",
      "<> MTAG: Multitrait Analysis of GWAS \n",
      "<> Version: 1.0.3\n",
      "<> (C) 2017 Omeed Maghzian, Raymond Walters, and Patrick Turley\n",
      "<> Harvard University Department of Economics / Broad Institute of MIT and Harvard\n",
      "<> GNU General Public License v3\n",
      "<><><<>><><><><><><><><><><><><><><><><><><><><><><><><><><><><><><><><><><>\n",
      "<> Note:  It is recommended to run your own QC on the input before using this program. \n",
      "<> Software-related correspondence: maghzian@nber.org \n",
      "<> All other correspondence: paturley@broadinstitute.org \n",
      "<><><<>><><><><><><><><><><><><><><><><><><><><><><><><><><><><><><><><><><>\n",
      "\n",
      "\n",
      "Calling ./mtag.py \\\n",
      "--stream-stdout  \\\n",
      "--sumstats ../data/1_OA2016_hm3samp_NEUR.txt,../data/1_OA2016_hm3samp_SWB.txt \\\n",
      "--fdr  \\\n",
      "--out ../output/3_maxFDR/3.1_mtag_maxFDR_basic_NS \n",
      "\n",
      "Beginning MTAG analysis...\n",
      "Read in Trait 1 summary statistics (185458 SNPs) from ../data/1_OA2016_hm3samp_NEUR.txt ...\n",
      "<><><<>><><><><><><><><><><><><><><><><><><><><><><><><><><><><><><><><><><>\n",
      "Munging Trait 1  <><><<>><><><><><><><><><><><><><><><><><><><><><><><><><><\n",
      "<><><<>><><><><><><><><><><><><><><><><><><><><><><><><><><><><><><><><><><>\n",
      "Interpreting column names as follows:\n",
      "snpid:\tVariant ID (e.g., rs number)\n",
      "n:\tSample size\n",
      "a1:\tAllele 1, interpreted as ref allele for signed sumstat.\n",
      "pval:\tp-Value\n",
      "a2:\tAllele 2, interpreted as non-ref allele for signed sumstat.\n",
      "freq:\tAllele frequency\n",
      "z:\tDirectional summary statistic as specified by --signed-sumstats.\n",
      "\n",
      "Reading sumstats from provided DataFrame into memory 10000000 SNPs at a time.\n",
      ". done\n",
      "Read 185458 SNPs from --sumstats file.\n",
      "Removed 0 SNPs with missing values.\n",
      "Removed 0 SNPs with INFO <= None.\n",
      "Removed 0 SNPs with MAF <= 0.01.\n",
      "Removed 0 SNPs with out-of-bounds p-values.\n",
      "Removed 0 variants that were not SNPs. Note: strand ambiguous SNPs were not dropped.\n",
      "185458 SNPs remain.\n",
      "Removed 0 SNPs with duplicated rs numbers (185458 SNPs remain).\n",
      "Removed 162680 SNPs with N < 74074.074074 (22778 SNPs remain).\n",
      "Median value of SIGNED_SUMSTATS was 0.0, which seems sensible.\n",
      "Dropping snps with null values\n",
      "\n",
      "Metadata:\n",
      "Mean chi^2 = 1.467\n",
      "Lambda GC = 1.366\n",
      "Max chi^2 = 59.523\n",
      "20 Genome-wide significant SNPs (some may have been removed by filtering).\n",
      "\n",
      "Conversion finished at Wed Oct 18 18:44:01 2017\n",
      "Total time elapsed: 0.63s\n",
      "<><><<>><><><><><><><><><><><><><><><><><><><><><><><><><><><><><><><><><><>\n",
      "Munging of Trait 1 complete. SNPs remaining:\t 22778\n",
      "<><><<>><><><><><><><><><><><><><><><><><><><><><><><><><><><><><><><><><><>\n",
      "\n",
      "Read in Trait 2 summary statistics (167911 SNPs) from ../data/1_OA2016_hm3samp_SWB.txt ...\n",
      "<><><<>><><><><><><><><><><><><><><><><><><><><><><><><><><><><><><><><><><>\n",
      "Munging Trait 2  <><><<>><><><><><><><><><><><><><><><><><><><><><><><><><><\n",
      "<><><<>><><><><><><><><><><><><><><><><><><><><><><><><><><><><><><><><><><>\n",
      "Interpreting column names as follows:\n",
      "snpid:\tVariant ID (e.g., rs number)\n",
      "n:\tSample size\n",
      "a1:\tAllele 1, interpreted as ref allele for signed sumstat.\n",
      "pval:\tp-Value\n",
      "a2:\tAllele 2, interpreted as non-ref allele for signed sumstat.\n",
      "freq:\tAllele frequency\n",
      "z:\tDirectional summary statistic as specified by --signed-sumstats.\n",
      "\n",
      "Reading sumstats from provided DataFrame into memory 10000000 SNPs at a time.\n",
      ". done\n",
      "Read 167911 SNPs from --sumstats file.\n",
      "Removed 0 SNPs with missing values.\n",
      "Removed 0 SNPs with INFO <= None.\n",
      "Removed 0 SNPs with MAF <= 0.01.\n",
      "Removed 0 SNPs with out-of-bounds p-values.\n",
      "Removed 0 variants that were not SNPs. Note: strand ambiguous SNPs were not dropped.\n",
      "167911 SNPs remain.\n",
      "Removed 0 SNPs with duplicated rs numbers (167911 SNPs remain).\n",
      "Removed 102537 SNPs with N < 74074.074074 (65374 SNPs remain).\n",
      "Median value of SIGNED_SUMSTATS was 0.0, which seems sensible.\n",
      "Dropping snps with null values\n",
      "\n",
      "Metadata:\n",
      "Mean chi^2 = 1.208\n",
      "Lambda GC = 1.188\n",
      "Max chi^2 = 29.353\n",
      "1 Genome-wide significant SNPs (some may have been removed by filtering).\n",
      "\n",
      "Conversion finished at Wed Oct 18 18:44:03 2017\n",
      "Total time elapsed: 0.68s\n",
      "<><><<>><><><><><><><><><><><><><><><><><><><><><><><><><><><><><><><><><><>\n",
      "Munging of Trait 2 complete. SNPs remaining:\t 65374\n",
      "<><><<>><><><><><><><><><><><><><><><><><><><><><><><><><><><><><><><><><><>\n",
      "\n",
      "Trait 2 summary statistics: \t 20321 SNPs remaining merging with previous traits.\n",
      "... Merge of GWAS summary statistics complete. Number of SNPs:\t 20321\n",
      "Using 20321 SNPs to estimate Omega (0 SNPs excluded due to strand ambiguity)\n",
      "Estimating sigma..\n",
      "Checking for positive definiteness ..\n",
      "Sigma hat:\n",
      "[[ 1.043 -0.129]\n",
      " [-0.129  0.966]]\n",
      "Beginning estimation of Omega ...\n",
      "Using GMM estimator of Omega ..\n",
      "Checking for positive definiteness ..\n",
      "Completed estimation of Omega ...\n",
      "Beginning MTAG calculations...\n",
      " ... Completed MTAG calculations.\n",
      "Writing Phenotype 1 to file ...\n",
      "Writing Phenotype 2 to file ...\n",
      "\n",
      "Summary of MTAG results:\n",
      "------------------------\n",
      "  Trait                 N (max)  N (mean)  # SNPs used  GWAS mean chi^2  MTAG mean chi^2  GWAS equiv. (max) N\n",
      "1  ...hm3samp_NEUR.txt  111111   111111    20321        1.407            1.488            133309             \n",
      "2  ..._hm3samp_SWB.txt  111111   111111    20321        1.269            1.408            168490             \n",
      "\n",
      "Estimated Omega:\n",
      "[[  3.817e-06  -2.199e-06]\n",
      " [ -2.199e-06   2.336e-06]]\n",
      "\n",
      "Estimated Sigma:\n",
      "[[ 1.043 -0.129]\n",
      " [-0.129  0.966]]\n",
      "\n",
      " \n",
      "MTAG results saved to file.\n",
      "Beginning maxFDR calculations. Depending on the number of grid points specified, this might take some time...\n",
      "T=2\n",
      "Number of gridpoints to search: 65\n",
      "Performing grid search using 1 cores.\n",
      "Grid search: 10.0 percent finished for . Time: \t0.004 min\n",
      "Grid search: 20.0 percent finished for . Time: \t0.005 min\n",
      "Grid search: 30.0 percent finished for . Time: \t0.007 min\n",
      "Grid search: 40.0 percent finished for . Time: \t0.008 min\n",
      "Grid search: 50.0 percent finished for . Time: \t0.009 min\n",
      "Grid search: 60.0 percent finished for . Time: \t0.010 min\n",
      "Grid search: 70.0 percent finished for . Time: \t0.011 min\n",
      "Grid search: 80.0 percent finished for . Time: \t0.011 min\n",
      "Grid search: 90.0 percent finished for . Time: \t0.012 min\n",
      "Grid search: 100.0 percent finished for . Time: \t0.013 min\n",
      "Saved calculations of fdr over grid points in ../output/3_maxFDR/3.1_mtag_maxFDR_basic_NS_fdr_mat.txt\n",
      "<><><<>><><><><><><><><><><><><><><><><><><><><><><><><><><><><><><><><><><>\n",
      "grid point indices for max FDR for each trait: [12  3]\n",
      "Maximum FDR\n",
      "Max FDR of Trait 1: 0.00109655427181 at probs = [ 0.   0.3  0.   0.7]\n",
      "Max FDR of Trait 2: 0.00436959625046 at probs = [ 0.   0.   0.3  0.7]\n",
      "<><><<>><><><><><><><><><><><><><><><><><><><><><><><><><><><><><><><><><><>\n",
      "Completed FDR calculations.\n",
      "MTAG complete. Time elapsed: 25.1162800789s\n"
     ]
    }
   ],
   "source": [
    "# 3.1_max_FDR_basics.bash\n",
    "!python ../mtag/mtag.py  \\\n",
    "    --sumstats ../data/1_OA2016_hm3samp_NEUR.txt,../data/1_OA2016_hm3samp_SWB.txt \\\n",
    "    --out ../output/3_maxFDR/3.1_mtag_maxFDR_basic_NS \\\n",
    "    --stream_stdout \\\n",
    "    --fdr \\\n",
    "    --stream_stdout\n"
   ]
  },
  {
   "cell_type": "code",
   "execution_count": 20,
   "metadata": {
    "collapsed": false,
    "slideshow": {
     "slide_type": "subslide"
    }
   },
   "outputs": [
    {
     "name": "stdout",
     "output_type": "stream",
     "text": [
      "\r\n",
      "2017/10/18/06:44:25 PM  \r\n",
      "2017/10/18/06:44:25 PM MTAG results saved to file.\r\n",
      "2017/10/18/06:44:25 PM Beginning maxFDR calculations. Depending on the number of grid points specified, this might take some time...\r\n",
      "2017/10/18/06:44:25 PM T=2\r\n",
      "2017/10/18/06:44:25 PM Number of gridpoints to search: 65\r\n",
      "2017/10/18/06:44:25 PM Performing grid search using 1 cores.\r\n",
      "2017/10/18/06:44:25 PM Grid search: 10.0 percent finished for . Time: \t0.004 min\r\n",
      "2017/10/18/06:44:25 PM Grid search: 20.0 percent finished for . Time: \t0.005 min\r\n",
      "2017/10/18/06:44:25 PM Grid search: 30.0 percent finished for . Time: \t0.007 min\r\n",
      "2017/10/18/06:44:25 PM Grid search: 40.0 percent finished for . Time: \t0.008 min\r\n",
      "2017/10/18/06:44:25 PM Grid search: 50.0 percent finished for . Time: \t0.009 min\r\n",
      "2017/10/18/06:44:25 PM Grid search: 60.0 percent finished for . Time: \t0.010 min\r\n",
      "2017/10/18/06:44:25 PM Grid search: 70.0 percent finished for . Time: \t0.011 min\r\n",
      "2017/10/18/06:44:25 PM Grid search: 80.0 percent finished for . Time: \t0.011 min\r\n",
      "2017/10/18/06:44:25 PM Grid search: 90.0 percent finished for . Time: \t0.012 min\r\n",
      "2017/10/18/06:44:25 PM Grid search: 100.0 percent finished for . Time: \t0.013 min\r\n",
      "2017/10/18/06:44:25 PM Saved calculations of fdr over grid points in ../output/3_maxFDR/3.1_mtag_maxFDR_basic_NS_fdr_mat.txt\r\n",
      "2017/10/18/06:44:25 PM <><><<>><><><><><><><><><><><><><><><><><><><><><><><><><><><><><><><><><><>\r\n",
      "2017/10/18/06:44:25 PM grid point indices for max FDR for each trait: [12  3]\r\n",
      "2017/10/18/06:44:25 PM Maximum FDR\r\n",
      "2017/10/18/06:44:25 PM Max FDR of Trait 1: 0.00109655427181 at probs = [ 0.   0.3  0.   0.7]\r\n",
      "2017/10/18/06:44:25 PM Max FDR of Trait 2: 0.00436959625046 at probs = [ 0.   0.   0.3  0.7]\r\n",
      "2017/10/18/06:44:25 PM <><><<>><><><><><><><><><><><><><><><><><><><><><><><><><><><><><><><><><><>\r\n",
      "2017/10/18/06:44:25 PM Completed FDR calculations.\r\n",
      "2017/10/18/06:44:25 PM MTAG complete. Time elapsed: 25.1162800789s\r\n"
     ]
    }
   ],
   "source": [
    "!tail -26 ../output/3_maxFDR/3.1_mtag_maxFDR_basic_NS.log"
   ]
  },
  {
   "cell_type": "markdown",
   "metadata": {
    "slideshow": {
     "slide_type": "subslide"
    }
   },
   "source": [
    "#### The number of grid points rises dramatically in the number of traits and inverse size of intervals! \n"
   ]
  },
  {
   "cell_type": "code",
   "execution_count": 26,
   "metadata": {
    "collapsed": false,
    "slideshow": {
     "slide_type": "skip"
    }
   },
   "outputs": [
    {
     "name": "stdout",
     "output_type": "stream",
     "text": [
      "usage: mtag.py [-h] [--sumstats [{File1},{File2}...]]\r\n",
      "               [--gencov_path FILE_PATH] [--residcov_path FILE_PATH]\r\n",
      "               [--out DIR/PREFIX] [--make_full_path] [--snp_name SNP_NAME]\r\n",
      "               [--z_name Z_NAME] [--n_name N_NAME] [--eaf_name EAF_NAME]\r\n",
      "               [--chr_name CHR_NAME] [--bpos_name BPOS_NAME]\r\n",
      "               [--a1_name A1_NAME] [--a2_name A2_NAME]\r\n",
      "               [--include SNPLIST1,SNPLIST2,..]\r\n",
      "               [--exclude SNPLIST1,SNPLIST2,..] [--only_chr CHR_A,CHR_B,..]\r\n",
      "               [--homogNs_frac FRAC] [--homogNs_dist D] [--maf_min MAF_MIN]\r\n",
      "               [--n_min N_MIN] [--n_max N_MAX] [--info_min INFO_MIN]\r\n",
      "               [--drop_ambig_snps] [--no_allele_flipping] [--analytic_omega]\r\n",
      "               [--no_overlap] [--perfect_gencov] [--equal_h2] [--fdr]\r\n",
      "               [--grid_file GRID_FILE] [--fit_ss] [--intervals INTERVALS]\r\n",
      "               [--cores CORES] [--p_sig P_SIG] [--n_approx]\r\n",
      "               [--ld_ref_panel FOLDER_PATH] [--time_limit TIME_LIMIT]\r\n",
      "               [--std_betas] [--tol TOL] [--numerical_omega] [--verbose]\r\n",
      "               [--chunksize CHUNKSIZE] [--stream_stdout]\r\n",
      "\r\n",
      "**mtag: Multitrait Analysis of GWAS** This program is the implementation of\r\n",
      "MTAG method described by Turley et. al. Requires the input of a comma-\r\n",
      "separated list of GWAS summary statistics with identical columns. It is\r\n",
      "recommended to pass the column names manually to the program using the options\r\n",
      "below. The implementation of MTAG makes use of the LD Score Regression (ldsc)\r\n",
      "for cleaning the data and estimating residual variance-covariance matrix, so\r\n",
      "the input must also be compatible ./munge_sumstats.py command in the ldsc\r\n",
      "distribution included with mtag. The default estimation method for the genetic\r\n",
      "covariance matrix Omega is GMM (as described in the paper). Note below: any\r\n",
      "list of passed to the options below must be comma-separated without\r\n",
      "whitespace.\r\n",
      "\r\n",
      "optional arguments:\r\n",
      "  -h, --help            show this help message and exit\r\n",
      "\r\n",
      "Input Files:\r\n",
      "  Input files to be used by MTAG. The --sumstats option is required, while\r\n",
      "  using the other two options take priority of their corresponding\r\n",
      "  estimation routines, if used.\r\n",
      "\r\n",
      "  --sumstats [{File1},{File2}...]\r\n",
      "                        Specify the list of summary statistics files to\r\n",
      "                        perform multitrait analysis. Multiple files paths must\r\n",
      "                        be separated by \",\". Please read the documentation to\r\n",
      "                        find the up-to-date set of acceptable file formats. A\r\n",
      "                        general guideline is that any files you pass into MTAG\r\n",
      "                        should also be parsable by ldsc and you should take\r\n",
      "                        the additional step of specifying the names of the\r\n",
      "                        main columns below to avoid reading errors.\r\n",
      "  --gencov_path FILE_PATH\r\n",
      "                        If specified, will read in the genetic covariance\r\n",
      "                        matrix saved in the file path below and skip the\r\n",
      "                        estimation routine. The rows and columns of the matrix\r\n",
      "                        must correspond to the order of the GWAS input files\r\n",
      "                        specified. FIles can either be in whitespace-delimited\r\n",
      "                        .txt or .npy format. Use with caution as the genetic\r\n",
      "                        covariance matrix specified will be weakly nonoptimal.\r\n",
      "  --residcov_path FILE_PATH\r\n",
      "                        If specified, will read in the residual covariance\r\n",
      "                        matrix saved in the file path below and skip the\r\n",
      "                        estimation routine. The rows and columns of the matrix\r\n",
      "                        must correspond to the order of the GWAS input files\r\n",
      "                        specified. FIles can either be in .txt or .npy format.\r\n",
      "                        Use with caution as the genetic covariance matrix\r\n",
      "                        specified will be weakly nonoptimal. File must either\r\n",
      "                        be in whitespace-delimited .txt or .npy\r\n",
      "\r\n",
      "Output formatting:\r\n",
      "  Set the output directory and common name of prefix files.\r\n",
      "\r\n",
      "  --out DIR/PREFIX      Specify the directory and name prefix to output MTAG\r\n",
      "                        results. All mtag results will be prefixed with the\r\n",
      "                        corresponding tag. Default is ./mtag_results\r\n",
      "  --make_full_path      option to make output path specified in -out if it\r\n",
      "                        does not exist.\r\n",
      "\r\n",
      "Column names of input files:\r\n",
      "  These options manually pass the names of the relevant summary statistics\r\n",
      "  columns used by MTAG. It is recommended to pass these names because only\r\n",
      "  narrow searches for these columns are performed in the default cases.\r\n",
      "  Moreover, it is necessary that these input files be readable by ldsc's\r\n",
      "  munge_sumstats command.\r\n",
      "\r\n",
      "  --snp_name SNP_NAME   Name of the single column that provides the unique\r\n",
      "                        identifier for SNPs in the GWAS summary statistics\r\n",
      "                        across all GWAS results. Default is \"snpid\". This the\r\n",
      "                        index that will be used to merge the GWAS summary\r\n",
      "                        statistics. Any SNP lists passed to ---include or\r\n",
      "                        --exclude should also contain the same name.\r\n",
      "  --z_name Z_NAME       The common name of the column of Z scores across all\r\n",
      "                        input files. Default is to search for columns\r\n",
      "                        beginning with the lowercase letter z.\r\n",
      "  --n_name N_NAME       the common name of the column of sample sizes in the\r\n",
      "                        GWAS summary statistics files. Default is to search\r\n",
      "                        for columns beginning with the lowercase letter n.\r\n",
      "  --eaf_name EAF_NAME   The common name of the column of minor allele\r\n",
      "                        frequencies (MAF) in the GWAS input files. The default\r\n",
      "                        is \"freq\".\r\n",
      "  --chr_name CHR_NAME   Name of the column containing the chromosome of each\r\n",
      "                        SNP in the GWAS input. Default is \"chr\".\r\n",
      "  --bpos_name BPOS_NAME\r\n",
      "                        Name of the column containing the base pair of each\r\n",
      "                        SNP in the GWAS input. Default is \"bpos\".\r\n",
      "  --a1_name A1_NAME     Name of the column containing the effect allele of\r\n",
      "                        each SNP in the GWAS input. Default is \"a1\".\r\n",
      "  --a2_name A2_NAME     Name of the column containing the non-effect allele of\r\n",
      "                        each SNP in the GWAS input. Default is \"a2\".\r\n",
      "\r\n",
      "Filter Options:\r\n",
      "  The input summary statistics files can be filtered using the options\r\n",
      "  below. Note that there is some default filtering according to sample size\r\n",
      "  and allele frequency, following the recommendations we make in the\r\n",
      "  corresponding paper. All of these column-based options allow a list of\r\n",
      "  values to be passed of the same length as the number of traits\r\n",
      "\r\n",
      "  --include SNPLIST1,SNPLIST2,..\r\n",
      "                        Restricts MTAG analysis to the union of snps in the\r\n",
      "                        list of snplists provided. The header line must match\r\n",
      "                        the SNP index that will be used to merge the GWAS\r\n",
      "                        input files.\r\n",
      "  --exclude SNPLIST1,SNPLIST2,.., --excludeSNPs SNPLIST1,SNPLIST2,..\r\n",
      "                        Similar to the --include option, except that the union\r\n",
      "                        of SNPs found in the specified files will be excluded\r\n",
      "                        from MTAG. Both -exclude and -include may be\r\n",
      "                        simultaneously specified, but -exclude will take\r\n",
      "                        precedent (i.e., SNPs found in both the -include and\r\n",
      "                        -exclude SNP lists will be excluded).\r\n",
      "  --only_chr CHR_A,CHR_B,..\r\n",
      "                        Restrict MTAG to SNPs on one of the listed, comma-\r\n",
      "                        separated chromosome. Can be specified simultaneously\r\n",
      "                        with --include and --exclude, but will take precedent\r\n",
      "                        over both. Not generally recommended. Multiple\r\n",
      "                        chromosome numbers should be separated by commas\r\n",
      "                        without whitespace. If this option is specified, the\r\n",
      "                        GWAS summary statistics must also list the chromosome\r\n",
      "                        of each SNPs in a column named \\`chr\\`.\r\n",
      "  --homogNs_frac FRAC   Restricts to SNPs within FRAC of the mode of sample\r\n",
      "                        sizes for the SNPs as given by (N-Mode)/Mode < FRAC.\r\n",
      "                        This filter is not applied by default.\r\n",
      "  --homogNs_dist D      Restricts to SNPs within DIST (in sample size) of the\r\n",
      "                        mode of sample sizes for the SNPs. This filter is not\r\n",
      "                        applied by default.\r\n",
      "  --maf_min MAF_MIN     set the threshold below SNPs with low minor allele\r\n",
      "                        frequencies will be dropped. Default is 0.01. Set to 0\r\n",
      "                        to skip MAF filtering.\r\n",
      "  --n_min N_MIN         set the minimum threshold for SNP sample size in input\r\n",
      "                        data. Default is 2/3*(90th percentile). Any SNP that\r\n",
      "                        does not pass this threshold for all of the GWAS input\r\n",
      "                        statistics will not be included in MTAG.\r\n",
      "  --n_max N_MAX         set the maximum threshold for SNP sample size in input\r\n",
      "                        data. Not used by default. Any SNP that does not pass\r\n",
      "                        this threshold for any of the GWAS input statistics\r\n",
      "                        will not be included in MTAG.\r\n",
      "  --info_min INFO_MIN   Minimim info score for filtering SNPs for MTAG.\r\n",
      "  --drop_ambig_snps     Drop strand ambiguous SNPs when performing MTAG (they\r\n",
      "                        are already not used to estimate Omega or Sigma.\r\n",
      "  --no_allele_flipping  Prevents flipping the effect sizes of summary\r\n",
      "                        statistics when the effect and non-effect alleles are\r\n",
      "                        reversed (reletive the first summary statistics file.\r\n",
      "\r\n",
      "Special Cases:\r\n",
      "  These options deal with notable special cases of MTAG that yield\r\n",
      "  improvements in runtime. However, they should be used with caution as they\r\n",
      "  will yield non-optimal results if the assumptions implicit in each option\r\n",
      "  are violated.\r\n",
      "\r\n",
      "  --analytic_omega      Option to turn off the numerical estimation of the\r\n",
      "                        genetic VCV matrix in the presence of constant sample\r\n",
      "                        size within each GWAS, for which a closed-form\r\n",
      "                        solution exists. The default is to typically use the\r\n",
      "                        closed form solution as the starting point for the\r\n",
      "                        numerical solution to the maximum-likelihood genetic\r\n",
      "                        VCV, Use with caution! If any input GWAS does not have\r\n",
      "                        constant sample size, then the analytic solution\r\n",
      "                        employed here will not be a maximizer of the\r\n",
      "                        likelihood function.\r\n",
      "  --no_overlap          Imposes the assumption that there is no sample overlap\r\n",
      "                        between the input GWAS summary statistics. MTAG is\r\n",
      "                        performed with the off-diagonal terms on the residual\r\n",
      "                        covariance matrix set to 0.\r\n",
      "  --perfect_gencov      Imposes the assumption that all traits used are\r\n",
      "                        perfectly genetically correlated with each other. The\r\n",
      "                        off-diagonal terms of the genetic covariance matrix\r\n",
      "                        are set to the square root of the product of the\r\n",
      "                        heritabilities\r\n",
      "  --equal_h2            Imposes the assumption that all traits passed to MTAG\r\n",
      "                        have equal heritability. The diagonal terms of the\r\n",
      "                        genetic covariance matrix are set equal to each other.\r\n",
      "                        Can only be used in conjunction with --perfect_gencov\r\n",
      "\r\n",
      "Max FDR calculation:\r\n",
      "  These options are used for the calculation of an upper bound on the false\r\n",
      "  disovery under the model described in Supplementary Note 1.1.4 of Turley\r\n",
      "  et al. (2017). Note that there is one of three ways to define the space of\r\n",
      "  grid points over which the upper bound is searched.\r\n",
      "\r\n",
      "  --fdr                 Perform max FDR calculations\r\n",
      "  --grid_file GRID_FILE\r\n",
      "                        Pre-set list of grid points. Users can define a list\r\n",
      "                        of grid points over which the search is conducted. The\r\n",
      "                        list of grid points should be passed in text file as a\r\n",
      "                        white-space delimited matrix of dimnesions, G x S,\r\n",
      "                        where G is the number of grid points and S = 2^T is\r\n",
      "                        the number of possible causal states for SNPs. States\r\n",
      "                        are ordered according to a tree-like recursive\r\n",
      "                        structure from right to left. For example, for 3\r\n",
      "                        traits, with the triple TFT denoting the state for\r\n",
      "                        which SNPs are causal for State 1, not causal for\r\n",
      "                        state 2, and causal for state 3, then the column\r\n",
      "                        ordering of probabilities should be: FFF FFT FTF FTT\r\n",
      "                        TFF TFT TTF TTT There should be no headers, or row\r\n",
      "                        names in the file. Any rows for which (i) the\r\n",
      "                        probabilities do not sum to 1, the prior of a SNP\r\n",
      "                        being is causal is 0 for any of the traits, and (iii)\r\n",
      "                        the resulting genetic correlation matrix is non\r\n",
      "                        positive definite will excluded in the search.\r\n",
      "  --fit_ss              This estimates the prior probability that a SNP is\r\n",
      "                        null for each trait and then proceeds to restrict the\r\n",
      "                        grid search to the set of probability vectors that sum\r\n",
      "                        to the prior null for each trait. This is useful for\r\n",
      "                        restrict the search space of larger-dimensional\r\n",
      "                        traits.\r\n",
      "  --intervals INTERVALS\r\n",
      "                        Number of intervals that you would like to partition\r\n",
      "                        the [0,1] interval. For example example, with two\r\n",
      "                        traits and --intervals set 10, then maxFDR will\r\n",
      "                        calculated over the set of feasible points in {0.,\r\n",
      "                        0.1, 0.2,..,0.9,1.0}^2.\r\n",
      "  --cores CORES         Number of threads/cores use to compute the FDR grid\r\n",
      "                        points for each trait.\r\n",
      "  --p_sig P_SIG         P-value threshold used for statistical signifiance.\r\n",
      "                        Default is p=5.0e-8 (genome-wide significance).\r\n",
      "  --n_approx            Speed up FDR calculation by replacing the sample size\r\n",
      "                        of a SNP for each trait by the mean across SNPs (for\r\n",
      "                        each trait). Recommended.\r\n",
      "\r\n",
      "Miscellaneous:\r\n",
      "  --ld_ref_panel FOLDER_PATH\r\n",
      "                        Specify folder of the ld reference panel (split by\r\n",
      "                        chromosome) that will be used in the estimation of the\r\n",
      "                        error VCV (sigma). This option is passed to --ref-ld-\r\n",
      "                        chr and --w-ld-chr when running LD score regression.\r\n",
      "                        The default is to use the reference panel of LD scores\r\n",
      "                        computed from 1000 Genomes European subjects\r\n",
      "                        (eur_w_ld_chr) that is included with the distribution\r\n",
      "                        of MTAG\r\n",
      "  --time_limit TIME_LIMIT\r\n",
      "                        Set time limit (hours) on the numerical estimation of\r\n",
      "                        the variance covariance matrix for MTAG, after which\r\n",
      "                        the optimization routine will complete its current\r\n",
      "                        iteration and perform MTAG using the last iteration of\r\n",
      "                        the genetic VCV.\r\n",
      "  --std_betas           Results files will have standardized effect sizes,\r\n",
      "                        i.e., the weights 1/sqrt(2*MAF*(1-MAF)) are not\r\n",
      "                        applied when outputting MTAG results, where MAF is the\r\n",
      "                        minor allele frequency.\r\n",
      "  --tol TOL             Set the relative (x) tolerance when numerically\r\n",
      "                        estimating the genetic variance-covariance matrix. Not\r\n",
      "                        recommended to change unless you are facing strong\r\n",
      "                        runtime constraints for a large number of traits.\r\n",
      "  --numerical_omega     Option to use the MLE estimator of the genetic VCV\r\n",
      "                        matrix, implemented through a numerical routine.\r\n",
      "  --verbose             When used, will include output from running ldsc\r\n",
      "                        scripts as well additional information (such as\r\n",
      "                        optimization routine information.\r\n",
      "  --chunksize CHUNKSIZE\r\n",
      "                        Chunksize for reading in data.\r\n",
      "  --stream_stdout       Will streat mtag processing on console in addition to\r\n",
      "                        writing to log file.\r\n"
     ]
    }
   ],
   "source": [
    "!python ../mtag/mtag.py -h\n"
   ]
  },
  {
   "cell_type": "markdown",
   "metadata": {
    "slideshow": {
     "slide_type": "subslide"
    }
   },
   "source": [
    "#### In this case, we recommend that you use **`--n_approx`**\n",
    "\n"
   ]
  },
  {
   "cell_type": "markdown",
   "metadata": {
    "slideshow": {
     "slide_type": "fragment"
    }
   },
   "source": [
    "```\n",
    "  --n_approx            Speed up FDR calculation by replacing the sample size\n",
    "                        of a SNP for each trait by the mean across SNPs (for\n",
    "                        each trait). Recommended.\n",
    "```"
   ]
  },
  {
   "cell_type": "markdown",
   "metadata": {
    "slideshow": {
     "slide_type": "subslide"
    }
   },
   "source": [
    "### `bash 3.2_maxFDR_approx.bash`"
   ]
  },
  {
   "cell_type": "code",
   "execution_count": 29,
   "metadata": {
    "collapsed": false,
    "slideshow": {
     "slide_type": "fragment"
    }
   },
   "outputs": [
    {
     "name": "stdout",
     "output_type": "stream",
     "text": [
      "\n",
      "<><><<>><><><><><><><><><><><><><><><><><><><><><><><><><><><><><><><><><><>\n",
      "<>\n",
      "<> MTAG: Multitrait Analysis of GWAS \n",
      "<> Version: 1.0.3\n",
      "<> (C) 2017 Omeed Maghzian, Raymond Walters, and Patrick Turley\n",
      "<> Harvard University Department of Economics / Broad Institute of MIT and Harvard\n",
      "<> GNU General Public License v3\n",
      "<><><<>><><><><><><><><><><><><><><><><><><><><><><><><><><><><><><><><><><>\n",
      "<> Note:  It is recommended to run your own QC on the input before using this program. \n",
      "<> Software-related correspondence: maghzian@nber.org \n",
      "<> All other correspondence: paturley@broadinstitute.org \n",
      "<><><<>><><><><><><><><><><><><><><><><><><><><><><><><><><><><><><><><><><>\n",
      "\n",
      "\n",
      "Calling ./mtag.py \\\n",
      "--intervals 100 \\\n",
      "--stream-stdout  \\\n",
      "--n-approx  \\\n",
      "--sumstats ../data/1_OA2016_hm3samp_NEUR.txt,../data/1_OA2016_hm3samp_SWB.txt \\\n",
      "--fdr  \\\n",
      "--out ../output/3_maxFDR/3.2_mtag_maxFDR_approx_NS \n",
      "\n",
      "Beginning MTAG analysis...\n",
      "Read in Trait 1 summary statistics (185458 SNPs) from ../data/1_OA2016_hm3samp_NEUR.txt ...\n",
      "<><><<>><><><><><><><><><><><><><><><><><><><><><><><><><><><><><><><><><><>\n",
      "Munging Trait 1  <><><<>><><><><><><><><><><><><><><><><><><><><><><><><><><\n",
      "<><><<>><><><><><><><><><><><><><><><><><><><><><><><><><><><><><><><><><><>\n",
      "Interpreting column names as follows:\n",
      "snpid:\tVariant ID (e.g., rs number)\n",
      "n:\tSample size\n",
      "a1:\tAllele 1, interpreted as ref allele for signed sumstat.\n",
      "pval:\tp-Value\n",
      "a2:\tAllele 2, interpreted as non-ref allele for signed sumstat.\n",
      "freq:\tAllele frequency\n",
      "z:\tDirectional summary statistic as specified by --signed-sumstats.\n",
      "\n",
      "Reading sumstats from provided DataFrame into memory 10000000 SNPs at a time.\n",
      ". done\n",
      "Read 185458 SNPs from --sumstats file.\n",
      "Removed 0 SNPs with missing values.\n",
      "Removed 0 SNPs with INFO <= None.\n",
      "Removed 0 SNPs with MAF <= 0.01.\n",
      "Removed 0 SNPs with out-of-bounds p-values.\n",
      "Removed 0 variants that were not SNPs. Note: strand ambiguous SNPs were not dropped.\n",
      "185458 SNPs remain.\n",
      "Removed 0 SNPs with duplicated rs numbers (185458 SNPs remain).\n",
      "Removed 162680 SNPs with N < 74074.074074 (22778 SNPs remain).\n",
      "Median value of SIGNED_SUMSTATS was 0.0, which seems sensible.\n",
      "Dropping snps with null values\n",
      "\n",
      "Metadata:\n",
      "Mean chi^2 = 1.467\n",
      "Lambda GC = 1.366\n",
      "Max chi^2 = 59.523\n",
      "20 Genome-wide significant SNPs (some may have been removed by filtering).\n",
      "\n",
      "Conversion finished at Wed Oct 18 19:17:06 2017\n",
      "Total time elapsed: 0.77s\n",
      "<><><<>><><><><><><><><><><><><><><><><><><><><><><><><><><><><><><><><><><>\n",
      "Munging of Trait 1 complete. SNPs remaining:\t 22778\n",
      "<><><<>><><><><><><><><><><><><><><><><><><><><><><><><><><><><><><><><><><>\n",
      "\n",
      "Read in Trait 2 summary statistics (167911 SNPs) from ../data/1_OA2016_hm3samp_SWB.txt ...\n",
      "<><><<>><><><><><><><><><><><><><><><><><><><><><><><><><><><><><><><><><><>\n",
      "Munging Trait 2  <><><<>><><><><><><><><><><><><><><><><><><><><><><><><><><\n",
      "<><><<>><><><><><><><><><><><><><><><><><><><><><><><><><><><><><><><><><><>\n",
      "Interpreting column names as follows:\n",
      "snpid:\tVariant ID (e.g., rs number)\n",
      "n:\tSample size\n",
      "a1:\tAllele 1, interpreted as ref allele for signed sumstat.\n",
      "pval:\tp-Value\n",
      "a2:\tAllele 2, interpreted as non-ref allele for signed sumstat.\n",
      "freq:\tAllele frequency\n",
      "z:\tDirectional summary statistic as specified by --signed-sumstats.\n",
      "\n",
      "Reading sumstats from provided DataFrame into memory 10000000 SNPs at a time.\n",
      ". done\n",
      "Read 167911 SNPs from --sumstats file.\n",
      "Removed 0 SNPs with missing values.\n",
      "Removed 0 SNPs with INFO <= None.\n",
      "Removed 0 SNPs with MAF <= 0.01.\n",
      "Removed 0 SNPs with out-of-bounds p-values.\n",
      "Removed 0 variants that were not SNPs. Note: strand ambiguous SNPs were not dropped.\n",
      "167911 SNPs remain.\n",
      "Removed 0 SNPs with duplicated rs numbers (167911 SNPs remain).\n",
      "Removed 102537 SNPs with N < 74074.074074 (65374 SNPs remain).\n",
      "Median value of SIGNED_SUMSTATS was 0.0, which seems sensible.\n",
      "Dropping snps with null values\n",
      "\n",
      "Metadata:\n",
      "Mean chi^2 = 1.208\n",
      "Lambda GC = 1.188\n",
      "Max chi^2 = 29.353\n",
      "1 Genome-wide significant SNPs (some may have been removed by filtering).\n",
      "\n",
      "Conversion finished at Wed Oct 18 19:17:08 2017\n",
      "Total time elapsed: 0.98s\n",
      "<><><<>><><><><><><><><><><><><><><><><><><><><><><><><><><><><><><><><><><>\n",
      "Munging of Trait 2 complete. SNPs remaining:\t 65374\n",
      "<><><<>><><><><><><><><><><><><><><><><><><><><><><><><><><><><><><><><><><>\n",
      "\n",
      "Trait 2 summary statistics: \t 20321 SNPs remaining merging with previous traits.\n",
      "... Merge of GWAS summary statistics complete. Number of SNPs:\t 20321\n",
      "Using 20321 SNPs to estimate Omega (0 SNPs excluded due to strand ambiguity)\n",
      "Estimating sigma..\n",
      "Checking for positive definiteness ..\n",
      "Sigma hat:\n",
      "[[ 1.043 -0.129]\n",
      " [-0.129  0.966]]\n",
      "Beginning estimation of Omega ...\n",
      "Using GMM estimator of Omega ..\n",
      "Checking for positive definiteness ..\n",
      "Completed estimation of Omega ...\n",
      "Beginning MTAG calculations...\n",
      " ... Completed MTAG calculations.\n",
      "Writing Phenotype 1 to file ...\n",
      "Writing Phenotype 2 to file ...\n",
      "\n",
      "Summary of MTAG results:\n",
      "------------------------\n",
      "  Trait                 N (max)  N (mean)  # SNPs used  GWAS mean chi^2  MTAG mean chi^2  GWAS equiv. (max) N\n",
      "1  ...hm3samp_NEUR.txt  111111   111111    20321        1.407            1.488            133309             \n",
      "2  ..._hm3samp_SWB.txt  111111   111111    20321        1.269            1.408            168490             \n",
      "\n",
      "Estimated Omega:\n",
      "[[  3.817e-06  -2.199e-06]\n",
      " [ -2.199e-06   2.336e-06]]\n",
      "\n",
      "Estimated Sigma:\n",
      "[[ 1.043 -0.129]\n",
      " [-0.129  0.966]]\n",
      "\n",
      " \n",
      "MTAG results saved to file.\n",
      "Beginning maxFDR calculations. Depending on the number of grid points specified, this might take some time...\n",
      "T=2\n",
      "Number of gridpoints to search: 33580\n",
      "Performing grid search using 1 cores.\n",
      "Grid search: 10.0 percent finished for . Time: \t0.214 min\n",
      "Grid search: 20.0 percent finished for . Time: \t0.442 min\n",
      "Grid search: 30.0 percent finished for . Time: \t0.674 min\n",
      "Grid search: 40.0 percent finished for . Time: \t0.905 min\n",
      "Grid search: 50.0 percent finished for . Time: \t1.134 min\n",
      "Grid search: 60.0 percent finished for . Time: \t1.357 min\n",
      "Grid search: 70.0 percent finished for . Time: \t1.581 min\n",
      "Grid search: 80.0 percent finished for . Time: \t1.794 min\n",
      "Grid search: 90.0 percent finished for . Time: \t2.048 min\n",
      "Grid search: 100.0 percent finished for . Time: \t2.276 min\n",
      "Saved calculations of fdr over grid points in ../output/3_maxFDR/3.2_mtag_maxFDR_approx_NS_fdr_mat.txt\n",
      "<><><<>><><><><><><><><><><><><><><><><><><><><><><><><><><><><><><><><><><>\n",
      "grid point indices for max FDR for each trait: [  829 33576]\n",
      "Maximum FDR\n",
      "Max FDR of Trait 1: 0.00110246986219 at probs = [ 0.    0.28  0.    0.72]\n",
      "Max FDR of Trait 2: 0.0271483484174 at probs = [ 0.97  0.    0.01  0.02]\n",
      "<><><<>><><><><><><><><><><><><><><><><><><><><><><><><><><><><><><><><><><>\n",
      "Completed FDR calculations.\n",
      "MTAG complete. Time elapsed: 3.0m:6.61157798767s\n"
     ]
    }
   ],
   "source": [
    "!python ../mtag/mtag.py  \\\n",
    "    --sumstats ../data/1_OA2016_hm3samp_NEUR.txt,../data/1_OA2016_hm3samp_SWB.txt  \\\n",
    "    --out ../output/3_maxFDR/3.2_mtag_maxFDR_approx_NS \\\n",
    "    --stream_stdout \\\n",
    "    --fdr \\\n",
    "    --intervals 100 \\\n",
    "    --n_approx \\\n",
    "    --stream_stdout\n"
   ]
  },
  {
   "cell_type": "code",
   "execution_count": 22,
   "metadata": {
    "collapsed": false,
    "slideshow": {
     "slide_type": "subslide"
    }
   },
   "outputs": [
    {
     "name": "stdout",
     "output_type": "stream",
     "text": [
      "\r\n",
      "2017/10/18/07:17:30 PM  \r\n",
      "2017/10/18/07:17:30 PM MTAG results saved to file.\r\n",
      "2017/10/18/07:17:30 PM Beginning maxFDR calculations. Depending on the number of grid points specified, this might take some time...\r\n",
      "2017/10/18/07:17:30 PM T=2\r\n",
      "2017/10/18/07:17:54 PM Number of gridpoints to search: 33580\r\n",
      "2017/10/18/07:17:54 PM Performing grid search using 1 cores.\r\n",
      "2017/10/18/07:18:07 PM Grid search: 10.0 percent finished for . Time: \t0.214 min\r\n",
      "2017/10/18/07:18:21 PM Grid search: 20.0 percent finished for . Time: \t0.442 min\r\n",
      "2017/10/18/07:18:35 PM Grid search: 30.0 percent finished for . Time: \t0.674 min\r\n",
      "2017/10/18/07:18:49 PM Grid search: 40.0 percent finished for . Time: \t0.905 min\r\n",
      "2017/10/18/07:19:02 PM Grid search: 50.0 percent finished for . Time: \t1.134 min\r\n",
      "2017/10/18/07:19:16 PM Grid search: 60.0 percent finished for . Time: \t1.357 min\r\n",
      "2017/10/18/07:19:29 PM Grid search: 70.0 percent finished for . Time: \t1.581 min\r\n",
      "2017/10/18/07:19:42 PM Grid search: 80.0 percent finished for . Time: \t1.794 min\r\n",
      "2017/10/18/07:19:57 PM Grid search: 90.0 percent finished for . Time: \t2.048 min\r\n",
      "2017/10/18/07:20:11 PM Grid search: 100.0 percent finished for . Time: \t2.276 min\r\n",
      "2017/10/18/07:20:12 PM Saved calculations of fdr over grid points in ../output/3_maxFDR/3.2_mtag_maxFDR_approx_NS_fdr_mat.txt\r\n",
      "2017/10/18/07:20:12 PM <><><<>><><><><><><><><><><><><><><><><><><><><><><><><><><><><><><><><><><>\r\n",
      "2017/10/18/07:20:12 PM grid point indices for max FDR for each trait: [  829 33576]\r\n",
      "2017/10/18/07:20:12 PM Maximum FDR\r\n",
      "2017/10/18/07:20:12 PM Max FDR of Trait 1: 0.00110246986219 at probs = [ 0.    0.28  0.    0.72]\r\n",
      "2017/10/18/07:20:12 PM Max FDR of Trait 2: 0.0271483484174 at probs = [ 0.97  0.    0.01  0.02]\r\n",
      "2017/10/18/07:20:12 PM <><><<>><><><><><><><><><><><><><><><><><><><><><><><><><><><><><><><><><><>\r\n",
      "2017/10/18/07:20:12 PM Completed FDR calculations.\r\n",
      "2017/10/18/07:20:12 PM MTAG complete. Time elapsed: 3.0m:6.61157798767s\r\n"
     ]
    }
   ],
   "source": [
    "!tail -26 ../output/3_maxFDR/3.2_mtag_maxFDR_approx_NS.log"
   ]
  },
  {
   "cell_type": "markdown",
   "metadata": {
    "slideshow": {
     "slide_type": "subslide"
    }
   },
   "source": [
    "### Output for when the option is relevant\n",
    "\n"
   ]
  },
  {
   "cell_type": "markdown",
   "metadata": {
    "slideshow": {
     "slide_type": "skip"
    }
   },
   "source": [
    "<img src=\"figs/maxFDR_time_screenshot.png\">"
   ]
  },
  {
   "cell_type": "markdown",
   "metadata": {
    "slideshow": {
     "slide_type": "fragment"
    }
   },
   "source": [
    "```\n",
    "2017/09/28/05:21:04 PM Calculating FDR by setting number of intervals to 10, and True use of approximation.\n",
    "2017/09/28/05:21:04 PM T=2\n",
    "2017/09/28/05:21:04 PM Number of gridpoints to search: 92\n",
    "2017/09/28/05:21:04 PM Performing grid search using 20 cores.\n",
    "2017/09/28/05:21:05 PM Grid search: 10.0 percent finished for . Time: \t0.006 min\n",
    "2017/09/28/05:21:05 PM Grid search: 20.0 percent finished for . Time: \t0.011 min\n",
    "2017/09/28/05:21:06 PM Grid search: 30.0 percent finished for . Time: \t0.016 min\n",
    "2017/09/28/05:21:06 PM Grid search: 40.0 percent finished for . Time: \t0.022 min\n",
    "2017/09/28/05:21:06 PM Grid search: 50.0 percent finished for . Time: \t0.027 min\n",
    "2017/09/28/05:21:06 PM Grid search: 60.0 percent finished for . Time: \t0.032 min\n",
    "2017/09/28/05:21:07 PM Grid search: 70.0 percent finished for . Time: \t0.037 min\n",
    "2017/09/28/05:21:07 PM Grid search: 80.0 percent finished for . Time: \t0.043 min\n",
    "2017/09/28/05:21:07 PM Grid search: 90.0 percent finished for . Time: \t0.048 min\n",
    "2017/09/28/05:21:08 PM Grid search: 100.0 percent finished for . Time: \t0.054 min\n",
    "2017/09/28/05:21:08 PM Saved calculations of fdr over grid points in /var/genetics/ukb/huili/mtag/output/main/fdr_calculation/interval_10_True_meanapprox_fdr_mat.txt\n",
    "2017/09/28/05:21:08 PM <><><<>><><><><><><><><><><><><><><><><><><><><><><><><><><><><><><><><><><>\n",
    "2017/09/28/05:21:08 PM grid point indices for max FDR for each trait: [90  3]\n",
    "2017/09/28/05:21:08 PM Maximum FDR\n",
    "2017/09/28/05:21:08 PM Max FDR of Trait 1: 0.104708870765 at probs = [ 0.8  0.1  0.   0.1]\n",
    "2017/09/28/05:21:08 PM Max FDR of Trait 2: 0.000149109160478 at probs = [ 0.   0.   0.3  0.7]\n",
    "2017/09/28/05:21:08 PM <><><<>><><><><><><><><><><><><><><><><><><><><><><><><><><><><><><><><><><>\n",
    "2017/09/28/05:21:08 PM Completed FDR calculations.\n",
    "2017/09/28/05:21:08 PM Calculating FDR by setting number of intervals to 10, and False use of approximation.\n",
    "2017/09/28/05:21:08 PM T=2\n",
    "2017/09/28/05:21:08 PM Number of gridpoints to search: 92\n",
    "2017/09/28/05:21:08 PM Performing grid search using 20 cores.\n",
    "2017/09/28/05:22:30 PM Grid search: 10.0 percent finished for . Time: \t1.371 min\n",
    "2017/09/28/05:23:52 PM Grid search: 20.0 percent finished for . Time: \t2.743 min\n",
    "2017/09/28/05:25:15 PM Grid search: 30.0 percent finished for . Time: \t4.112 min\n",
    "2017/09/28/05:26:37 PM Grid search: 40.0 percent finished for . Time: \t5.480 min\n",
    "2017/09/28/05:27:59 PM Grid search: 50.0 percent finished for . Time: \t6.858 min\n",
    "2017/09/28/05:29:22 PM Grid search: 60.0 percent finished for . Time: \t8.230 min\n",
    "2017/09/28/05:30:44 PM Grid search: 70.0 percent finished for . Time: \t9.599 min\n",
    "2017/09/28/05:32:07 PM Grid search: 80.0 percent finished for . Time: \t10.978 min\n",
    "2017/09/28/05:33:29 PM Grid search: 90.0 percent finished for . Time: \t12.350 min\n",
    "2017/09/28/05:34:52 PM Grid search: 100.0 percent finished for . Time: \t13.728 min\n",
    "2017/09/28/05:34:52 PM Saved calculations of fdr over grid points in /var/genetics/ukb/huili/mtag/output/main/fdr_calculation/interval_10_False_meanapprox_fdr_mat.txt\n",
    "2017/09/28/05:34:52 PM <><><<>><><><><><><><><><><><><><><><><><><><><><><><><><><><><><><><><><><>\n",
    "2017/09/28/05:34:52 PM grid point indices for max FDR for each trait: [90  3]\n",
    "2017/09/28/05:34:52 PM Maximum FDR\n",
    "2017/09/28/05:34:52 PM Max FDR of Trait 1: 0.104764850463 at probs = [ 0.8  0.1  0.   0.1]\n",
    "2017/09/28/05:34:52 PM Max FDR of Trait 2: 0.000149016665847 at probs = [ 0.   0.   0.3  0.7]\n",
    "2017/09/28/05:34:52 PM <><><<>><><><><><><><><><><><><><><><><><><><><><><><><><><><><><><><><><><>\n",
    "2017/09/28/05:34:52 PM Completed FDR calculations.\n",
    "```"
   ]
  },
  {
   "cell_type": "code",
   "execution_count": 30,
   "metadata": {
    "collapsed": false,
    "slideshow": {
     "slide_type": "skip"
    }
   },
   "outputs": [
    {
     "name": "stdout",
     "output_type": "stream",
     "text": [
      "\n",
      "<><><<>><><><><><><><><><><><><><><><><><><><><><><><><><><><><><><><><><><>\n",
      "<>\n",
      "<> MTAG: Multitrait Analysis of GWAS \n",
      "<> Version: 1.0.3\n",
      "<> (C) 2017 Omeed Maghzian, Raymond Walters, and Patrick Turley\n",
      "<> Harvard University Department of Economics / Broad Institute of MIT and Harvard\n",
      "<> GNU General Public License v3\n",
      "<><><<>><><><><><><><><><><><><><><><><><><><><><><><><><><><><><><><><><><>\n",
      "<> Note:  It is recommended to run your own QC on the input before using this program. \n",
      "<> Software-related correspondence: maghzian@nber.org \n",
      "<> All other correspondence: paturley@broadinstitute.org \n",
      "<><><<>><><><><><><><><><><><><><><><><><><><><><><><><><><><><><><><><><><>\n",
      "\n",
      "\n",
      "Calling ./mtag.py \\\n",
      "--intervals 100 \\\n",
      "--stream-stdout  \\\n",
      "--sumstats ../data/1_OA2016_hm3samp_NEUR.txt,../data/1_OA2016_hm3samp_SWB.txt \\\n",
      "--fdr  \\\n",
      "--out ../output/3_maxFDR/3.2_mtag_maxFDR_noapprox_NS \n",
      "\n",
      "Beginning MTAG analysis...\n",
      "Read in Trait 1 summary statistics (185458 SNPs) from ../data/1_OA2016_hm3samp_NEUR.txt ...\n",
      "<><><<>><><><><><><><><><><><><><><><><><><><><><><><><><><><><><><><><><><>\n",
      "Munging Trait 1  <><><<>><><><><><><><><><><><><><><><><><><><><><><><><><><\n",
      "<><><<>><><><><><><><><><><><><><><><><><><><><><><><><><><><><><><><><><><>\n",
      "Interpreting column names as follows:\n",
      "snpid:\tVariant ID (e.g., rs number)\n",
      "n:\tSample size\n",
      "a1:\tAllele 1, interpreted as ref allele for signed sumstat.\n",
      "pval:\tp-Value\n",
      "a2:\tAllele 2, interpreted as non-ref allele for signed sumstat.\n",
      "freq:\tAllele frequency\n",
      "z:\tDirectional summary statistic as specified by --signed-sumstats.\n",
      "\n",
      "Reading sumstats from provided DataFrame into memory 10000000 SNPs at a time.\n",
      ". done\n",
      "Read 185458 SNPs from --sumstats file.\n",
      "Removed 0 SNPs with missing values.\n",
      "Removed 0 SNPs with INFO <= None.\n",
      "Removed 0 SNPs with MAF <= 0.01.\n",
      "Removed 0 SNPs with out-of-bounds p-values.\n",
      "Removed 0 variants that were not SNPs. Note: strand ambiguous SNPs were not dropped.\n",
      "185458 SNPs remain.\n",
      "Removed 0 SNPs with duplicated rs numbers (185458 SNPs remain).\n",
      "Removed 162680 SNPs with N < 74074.074074 (22778 SNPs remain).\n",
      "Median value of SIGNED_SUMSTATS was 0.0, which seems sensible.\n",
      "Dropping snps with null values\n",
      "\n",
      "Metadata:\n",
      "Mean chi^2 = 1.467\n",
      "Lambda GC = 1.366\n",
      "Max chi^2 = 59.523\n",
      "20 Genome-wide significant SNPs (some may have been removed by filtering).\n",
      "\n",
      "Conversion finished at Wed Oct 18 20:37:41 2017\n",
      "Total time elapsed: 0.62s\n",
      "<><><<>><><><><><><><><><><><><><><><><><><><><><><><><><><><><><><><><><><>\n",
      "Munging of Trait 1 complete. SNPs remaining:\t 22778\n",
      "<><><<>><><><><><><><><><><><><><><><><><><><><><><><><><><><><><><><><><><>\n",
      "\n",
      "Read in Trait 2 summary statistics (167911 SNPs) from ../data/1_OA2016_hm3samp_SWB.txt ...\n",
      "<><><<>><><><><><><><><><><><><><><><><><><><><><><><><><><><><><><><><><><>\n",
      "Munging Trait 2  <><><<>><><><><><><><><><><><><><><><><><><><><><><><><><><\n",
      "<><><<>><><><><><><><><><><><><><><><><><><><><><><><><><><><><><><><><><><>\n",
      "Interpreting column names as follows:\n",
      "snpid:\tVariant ID (e.g., rs number)\n",
      "n:\tSample size\n",
      "a1:\tAllele 1, interpreted as ref allele for signed sumstat.\n",
      "pval:\tp-Value\n",
      "a2:\tAllele 2, interpreted as non-ref allele for signed sumstat.\n",
      "freq:\tAllele frequency\n",
      "z:\tDirectional summary statistic as specified by --signed-sumstats.\n",
      "\n",
      "Reading sumstats from provided DataFrame into memory 10000000 SNPs at a time.\n",
      ". done\n",
      "Read 167911 SNPs from --sumstats file.\n",
      "Removed 0 SNPs with missing values.\n",
      "Removed 0 SNPs with INFO <= None.\n",
      "Removed 0 SNPs with MAF <= 0.01.\n",
      "Removed 0 SNPs with out-of-bounds p-values.\n",
      "Removed 0 variants that were not SNPs. Note: strand ambiguous SNPs were not dropped.\n",
      "167911 SNPs remain.\n",
      "Removed 0 SNPs with duplicated rs numbers (167911 SNPs remain).\n",
      "Removed 102537 SNPs with N < 74074.074074 (65374 SNPs remain).\n",
      "Median value of SIGNED_SUMSTATS was 0.0, which seems sensible.\n",
      "Dropping snps with null values\n",
      "\n",
      "Metadata:\n",
      "Mean chi^2 = 1.208\n",
      "Lambda GC = 1.188\n",
      "Max chi^2 = 29.353\n",
      "1 Genome-wide significant SNPs (some may have been removed by filtering).\n",
      "\n",
      "Conversion finished at Wed Oct 18 20:37:43 2017\n",
      "Total time elapsed: 0.75s\n",
      "<><><<>><><><><><><><><><><><><><><><><><><><><><><><><><><><><><><><><><><>\n",
      "Munging of Trait 2 complete. SNPs remaining:\t 65374\n",
      "<><><<>><><><><><><><><><><><><><><><><><><><><><><><><><><><><><><><><><><>\n",
      "\n",
      "Trait 2 summary statistics: \t 20321 SNPs remaining merging with previous traits.\n",
      "... Merge of GWAS summary statistics complete. Number of SNPs:\t 20321\n",
      "Using 20321 SNPs to estimate Omega (0 SNPs excluded due to strand ambiguity)\n",
      "Estimating sigma..\n",
      "Checking for positive definiteness ..\n",
      "Sigma hat:\n",
      "[[ 1.043 -0.129]\n",
      " [-0.129  0.966]]\n",
      "Beginning estimation of Omega ...\n",
      "Using GMM estimator of Omega ..\n",
      "Checking for positive definiteness ..\n",
      "Completed estimation of Omega ...\n",
      "Beginning MTAG calculations...\n",
      " ... Completed MTAG calculations.\n",
      "Writing Phenotype 1 to file ...\n",
      "Writing Phenotype 2 to file ...\n",
      "\n",
      "Summary of MTAG results:\n",
      "------------------------\n",
      "  Trait                 N (max)  N (mean)  # SNPs used  GWAS mean chi^2  MTAG mean chi^2  GWAS equiv. (max) N\n",
      "1  ...hm3samp_NEUR.txt  111111   111111    20321        1.407            1.488            133309             \n",
      "2  ..._hm3samp_SWB.txt  111111   111111    20321        1.269            1.408            168490             \n",
      "\n",
      "Estimated Omega:\n",
      "[[  3.817e-06  -2.199e-06]\n",
      " [ -2.199e-06   2.336e-06]]\n",
      "\n",
      "Estimated Sigma:\n",
      "[[ 1.043 -0.129]\n",
      " [-0.129  0.966]]\n",
      "\n",
      " \n",
      "MTAG results saved to file.\n",
      "Beginning maxFDR calculations. Depending on the number of grid points specified, this might take some time...\n",
      "T=2\n",
      "Number of gridpoints to search: 33580\n",
      "Performing grid search using 1 cores.\n",
      "Grid search: 10.0 percent finished for . Time: \t0.224 min\n",
      "Grid search: 20.0 percent finished for . Time: \t0.451 min\n",
      "Grid search: 30.0 percent finished for . Time: \t0.672 min\n",
      "Grid search: 40.0 percent finished for . Time: \t0.890 min\n",
      "Grid search: 50.0 percent finished for . Time: \t1.103 min\n",
      "Grid search: 60.0 percent finished for . Time: \t1.315 min\n",
      "Grid search: 70.0 percent finished for . Time: \t1.532 min\n",
      "Grid search: 80.0 percent finished for . Time: \t1.778 min\n",
      "Grid search: 90.0 percent finished for . Time: \t2.025 min\n",
      "Grid search: 100.0 percent finished for . Time: \t2.268 min\n",
      "Saved calculations of fdr over grid points in ../output/3_maxFDR/3.2_mtag_maxFDR_noapprox_NS_fdr_mat.txt\n",
      "<><><<>><><><><><><><><><><><><><><><><><><><><><><><><><><><><><><><><><><>\n",
      "grid point indices for max FDR for each trait: [  829 33576]\n",
      "Maximum FDR\n",
      "Max FDR of Trait 1: 0.00110246986219 at probs = [ 0.    0.28  0.    0.72]\n",
      "Max FDR of Trait 2: 0.0271483484174 at probs = [ 0.97  0.    0.01  0.02]\n",
      "<><><<>><><><><><><><><><><><><><><><><><><><><><><><><><><><><><><><><><><>\n",
      "Completed FDR calculations.\n",
      "MTAG complete. Time elapsed: 3.0m:11.2434370518s\n"
     ]
    }
   ],
   "source": [
    "!python ../mtag/mtag.py  \\\n",
    "    --sumstats ../data/1_OA2016_hm3samp_NEUR.txt,../data/1_OA2016_hm3samp_SWB.txt  \\\n",
    "    --out ../output/3_maxFDR/3.2_mtag_maxFDR_noapprox_NS \\\n",
    "    --stream_stdout \\\n",
    "    --fdr \\\n",
    "    --intervals 100 \\\n",
    "    --stream_stdout\n"
   ]
  },
  {
   "cell_type": "markdown",
   "metadata": {
    "slideshow": {
     "slide_type": "subslide"
    }
   },
   "source": [
    "### Workflow for running maxFDR\n",
    "\n"
   ]
  },
  {
   "cell_type": "markdown",
   "metadata": {
    "slideshow": {
     "slide_type": "fragment"
    }
   },
   "source": [
    "#### Run MTAG in the background, work with results while maxFDR is still running.\n",
    "\n"
   ]
  },
  {
   "cell_type": "markdown",
   "metadata": {
    "slideshow": {
     "slide_type": "slide"
    }
   },
   "source": [
    "## Questions?"
   ]
  },
  {
   "cell_type": "markdown",
   "metadata": {
    "slideshow": {
     "slide_type": "subslide"
    }
   },
   "source": [
    "Ways to get help:\n",
    "\n"
   ]
  },
  {
   "cell_type": "markdown",
   "metadata": {
    "slideshow": {
     "slide_type": "fragment"
    }
   },
   "source": [
    "* Check out the tutorials available on the Github wiki\n"
   ]
  },
  {
   "cell_type": "markdown",
   "metadata": {
    "slideshow": {
     "slide_type": "fragment"
    }
   },
   "source": [
    "* Refer back to the original MTAG paper (especially the Supplementary Note)\n"
   ]
  },
  {
   "cell_type": "markdown",
   "metadata": {
    "slideshow": {
     "slide_type": "fragment"
    }
   },
   "source": [
    "* For troubleshooting, post a message on the [Google Group](https://groups.google.com/forum/#!forum/mtag_users)\n"
   ]
  },
  {
   "cell_type": "markdown",
   "metadata": {
    "slideshow": {
     "slide_type": "fragment"
    }
   },
   "source": [
    "* If you find any bugs/errors, open up an issue on Github\n"
   ]
  },
  {
   "cell_type": "markdown",
   "metadata": {
    "slideshow": {
     "slide_type": "fragment"
    }
   },
   "source": [
    "* Finally, email: <maghzian@nber.org>\n"
   ]
  },
  {
   "cell_type": "markdown",
   "metadata": {
    "slideshow": {
     "slide_type": "slide"
    }
   },
   "source": [
    "# Conclusion\n"
   ]
  },
  {
   "cell_type": "markdown",
   "metadata": {
    "slideshow": {
     "slide_type": "fragment"
    }
   },
   "source": [
    "* MTAG allows analysis of GWAS of multiple correlated traits using summary statistics\n",
    "\n",
    "* Identifies more loci and improves polygenic prediction for depressive symptoms, neuroticism, and subjective well-being\n",
    "\n",
    "* Code is publicly available at: https://github.com/omeed-maghzian/mtag\n"
   ]
  }
 ],
 "metadata": {
  "anaconda-cloud": {},
  "celltoolbar": "Slideshow",
  "kernelspec": {
   "display_name": "Python [Root]",
   "language": "python",
   "name": "Python [Root]"
  },
  "language_info": {
   "codemirror_mode": {
    "name": "ipython",
    "version": 3
   },
   "file_extension": ".py",
   "mimetype": "text/x-python",
   "name": "python",
   "nbconvert_exporter": "python",
   "pygments_lexer": "ipython3",
   "version": "3.4.4"
  }
 },
 "nbformat": 4,
 "nbformat_minor": 1
}
